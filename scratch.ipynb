{
 "cells": [
  {
   "cell_type": "code",
   "execution_count": 2,
   "id": "16b7ae1c-5843-44ab-8b21-d7de06e1af37",
   "metadata": {},
   "outputs": [],
   "source": [
    "import glob"
   ]
  },
  {
   "cell_type": "code",
   "execution_count": 14,
   "id": "805cd6a1-ae29-47ba-a722-1a6f8e38ac7b",
   "metadata": {},
   "outputs": [],
   "source": [
    "folders = glob.glob('/Users/erict/Desktop/Classical-and-Modern-Machine-Learning/classical/*') + glob.glob('/Users/erict/Desktop/Classical-and-Modern-Machine-Learning/modern/*')"
   ]
  },
  {
   "cell_type": "code",
   "execution_count": 20,
   "id": "a641e67f-875a-4db0-b5d8-061648c75469",
   "metadata": {},
   "outputs": [],
   "source": [
    "for folder in folders:\n",
    "    output_file = f\"{folder}/pre_training.md\"\n",
    "    ! cp /Users/erict/Desktop/Classical-and-Modern-Machine-Learning/notes.md {output_file}"
   ]
  },
  {
   "cell_type": "code",
   "execution_count": 22,
   "id": "8e7f77f0-7c24-4f51-b1c3-d1b1bfb4b052",
   "metadata": {},
   "outputs": [],
   "source": [
    "for folder in folders:\n",
    "    output_file = f\"{folder}/code.ipynb\"\n",
    "    ! cp /Users/erict/Desktop/Classical-and-Modern-Machine-Learning/code.ipynb {output_file}"
   ]
  },
  {
   "cell_type": "code",
   "execution_count": 3,
   "id": "65d4ea9f-9415-4e18-b0d8-484806d31e03",
   "metadata": {},
   "outputs": [],
   "source": [
    "folders = [\n",
    "    \"basics\", \"coding_practices\", \"cnns\", \"rnns_lstms\", \"attention_transformers\", \"autoencoders\", \"gans\", \n",
    "    \"diffusion\", \"gnns\", \"flows\", \"meta_learning\", \"contrastive_learning\", \"optimization\", \"computer_vision\", \"nlp\", \n",
    "    \"recommender_systems\", \"rl\", \"hyperparameter_optimization\", \"compuational_performance\", \"safety\", \"interpretability\", \n",
    "    \"applied\", \"misc\"\n",
    "]"
   ]
  },
  {
   "cell_type": "code",
   "execution_count": 35,
   "id": "fa29a62d-9e9f-4e47-99e5-a252fe2e4a8b",
   "metadata": {},
   "outputs": [],
   "source": [
    "input_file = \"/Users/erict/Desktop/Classical-and-Modern-Machine-Learning/modern/01_basics/pre_training.md\"\n",
    "for i in range(2, 24):\n",
    "    folder = \"/Users/erict/Desktop/Classical-and-Modern-Machine-Learning/dl/\" + format(i, \"02d\") + \"_\" + folders[i-1]\n",
    "    output_file = f\"{folder}/pre_training.md\"\n",
    "    ! cp {input_file} {output_file}\n",
    "    # ! rm -rf {output_file}"
   ]
  },
  {
   "cell_type": "markdown",
   "id": "45977669-7b47-4fdd-b54e-1b9961f6bd81",
   "metadata": {},
   "source": [
    "# Training\n",
    "\n",
    "## Commonly Used Functions\n",
    "- Softplus: $\\zeta(x) = \\log(1+\\exp(x))$, a smoothed version of $x^+ = \\max(0, x)$\n",
    "- Sigmoid: $\\frac{d}{d x} \\zeta(x)=\\sigma(x) = \\frac{1}{1+\\exp (-x)}$\n",
    "- Additional properties of softplus and sigmoid:\n",
    "  - $ \\zeta(x)=\\int_{-\\infty}^x \\sigma(y) d y$\n",
    "  - $ \\frac{d}{d x} \\sigma(x)=\\sigma(x)(1-\\sigma(x))$\n",
    "  - $ 1-\\sigma(x)=\\sigma(-x)$\n",
    "  - $ \\log \\sigma(x)=-\\zeta(-x)$\n",
    "  - $ \\forall x \\in(0,1), \\sigma^{-1}(x)=\\log \\left(\\frac{x}{1-x}\\right)$\n",
    "  - $ \\zeta^{-1}(x)=\\log (\\exp (x)-1)$\n",
    "  - $ \\zeta(x)-\\zeta(-x)=x$"
   ]
  },
  {
   "cell_type": "code",
   "execution_count": null,
   "id": "405e013f-8460-400c-93cd-e2efed9eacd8",
   "metadata": {},
   "outputs": [],
   "source": [
    "a = torch.randn(size=(), requires_grad=True)\n",
    "d = f(a)\n",
    "d.backward()"
   ]
  },
  {
   "cell_type": "code",
   "execution_count": 24,
   "id": "8701be92-640a-445f-88b4-d24b245587d0",
   "metadata": {},
   "outputs": [],
   "source": [
    "class Test:\n",
    "    def add(self, a, b):\n",
    "        return a + b\n",
    "\n",
    "    def add2(self, a,b):\n",
    "        return self.add(a, b)"
   ]
  },
  {
   "cell_type": "code",
   "execution_count": 28,
   "id": "526ff8ad-6df1-4a58-bf81-19743a93372e",
   "metadata": {},
   "outputs": [
    {
     "data": {
      "text/plain": [
       "3"
      ]
     },
     "execution_count": 28,
     "metadata": {},
     "output_type": "execute_result"
    }
   ],
   "source": [
    "test = Test()\n",
    "test.add2(1,2)"
   ]
  },
  {
   "cell_type": "code",
   "execution_count": 36,
   "id": "5644fff4-fdab-4a72-a8ca-b1f515b10889",
   "metadata": {},
   "outputs": [],
   "source": [
    "t = np.ones((10,10))"
   ]
  },
  {
   "cell_type": "code",
   "execution_count": 42,
   "id": "77453ad7-e01b-4e60-a5e7-31f9bc25cc77",
   "metadata": {},
   "outputs": [
    {
     "data": {
      "text/plain": [
       "array([1., 1., 1., 1., 1.])"
      ]
     },
     "execution_count": 42,
     "metadata": {},
     "output_type": "execute_result"
    }
   ],
   "source": [
    "t[:10//2, 10//2]"
   ]
  },
  {
   "cell_type": "code",
   "execution_count": 46,
   "id": "45422451-d3ab-4570-ad1a-cbe0f6a7c5eb",
   "metadata": {},
   "outputs": [],
   "source": [
    "def greet(name: str) -> str:\n",
    "    return type(name)"
   ]
  },
  {
   "cell_type": "code",
   "execution_count": 50,
   "id": "73447934-14a9-491f-a785-be75ea09911e",
   "metadata": {},
   "outputs": [
    {
     "data": {
      "text/plain": [
       "str"
      ]
     },
     "execution_count": 50,
     "metadata": {},
     "output_type": "execute_result"
    }
   ],
   "source": [
    "greet(\"Hi\")"
   ]
  },
  {
   "cell_type": "code",
   "execution_count": 52,
   "id": "492234d5-f4bb-4f6c-ae8a-1f29334c51b7",
   "metadata": {},
   "outputs": [
    {
     "data": {
      "text/plain": [
       "int"
      ]
     },
     "execution_count": 52,
     "metadata": {},
     "output_type": "execute_result"
    }
   ],
   "source": [
    "greet(3)"
   ]
  },
  {
   "cell_type": "code",
   "execution_count": 65,
   "id": "2eab2d51-2f92-497a-8839-5e8a68f4ce1a",
   "metadata": {},
   "outputs": [
    {
     "data": {
      "text/plain": [
       "'0000000000000101'"
      ]
     },
     "execution_count": 65,
     "metadata": {},
     "output_type": "execute_result"
    }
   ],
   "source": [
    "format(5, '016b')"
   ]
  },
  {
   "cell_type": "code",
   "execution_count": null,
   "id": "6ab2edcd-6070-43a0-9a40-8314ad4af663",
   "metadata": {},
   "outputs": [],
   "source": []
  }
 ],
 "metadata": {
  "kernelspec": {
   "display_name": "Python [conda env:base] *",
   "language": "python",
   "name": "conda-base-py"
  },
  "language_info": {
   "codemirror_mode": {
    "name": "ipython",
    "version": 3
   },
   "file_extension": ".py",
   "mimetype": "text/x-python",
   "name": "python",
   "nbconvert_exporter": "python",
   "pygments_lexer": "ipython3",
   "version": "3.12.2"
  }
 },
 "nbformat": 4,
 "nbformat_minor": 5
}
