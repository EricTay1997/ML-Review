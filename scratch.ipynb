{
 "cells": [
  {
   "cell_type": "code",
   "execution_count": 2,
   "id": "16b7ae1c-5843-44ab-8b21-d7de06e1af37",
   "metadata": {},
   "outputs": [],
   "source": [
    "import glob"
   ]
  },
  {
   "cell_type": "code",
   "execution_count": 14,
   "id": "805cd6a1-ae29-47ba-a722-1a6f8e38ac7b",
   "metadata": {},
   "outputs": [],
   "source": [
    "folders = glob.glob('/Users/erict/Desktop/Classical-and-Modern-Machine-Learning/classical/*') + glob.glob('/Users/erict/Desktop/Classical-and-Modern-Machine-Learning/modern/*')"
   ]
  },
  {
   "cell_type": "code",
   "execution_count": 20,
   "id": "a641e67f-875a-4db0-b5d8-061648c75469",
   "metadata": {},
   "outputs": [],
   "source": [
    "for folder in folders:\n",
    "    output_file = f\"{folder}/pre_training.md\"\n",
    "    ! cp /Users/erict/Desktop/Classical-and-Modern-Machine-Learning/notes.md {output_file}"
   ]
  },
  {
   "cell_type": "code",
   "execution_count": 22,
   "id": "8e7f77f0-7c24-4f51-b1c3-d1b1bfb4b052",
   "metadata": {},
   "outputs": [],
   "source": [
    "for folder in folders:\n",
    "    output_file = f\"{folder}/code.ipynb\"\n",
    "    ! cp /Users/erict/Desktop/Classical-and-Modern-Machine-Learning/code.ipynb {output_file}"
   ]
  },
  {
   "cell_type": "code",
   "execution_count": 3,
   "id": "65d4ea9f-9415-4e18-b0d8-484806d31e03",
   "metadata": {},
   "outputs": [],
   "source": [
    "folders = [\n",
    "    \"basics\", \"coding_practices\", \"cnns\", \"rnns_lstms\", \"attention_transformers\", \"autoencoders\", \"gans\", \n",
    "    \"diffusion\", \"gnns\", \"flows\", \"meta_learning\", \"contrastive_learning\", \"optimization\", \"computer_vision\", \"nlp\", \n",
    "    \"recommender_systems\", \"rl\", \"hyperparameter_optimization\", \"compuational_performance\", \"safety\", \"interpretability\", \n",
    "    \"applied\", \"misc\"\n",
    "]"
   ]
  },
  {
   "cell_type": "code",
   "execution_count": 35,
   "id": "fa29a62d-9e9f-4e47-99e5-a252fe2e4a8b",
   "metadata": {},
   "outputs": [],
   "source": [
    "input_file = \"/Users/erict/Desktop/Classical-and-Modern-Machine-Learning/modern/01_basics/pre_training.md\"\n",
    "for i in range(2, 24):\n",
    "    folder = \"/Users/erict/Desktop/Classical-and-Modern-Machine-Learning/dl/\" + format(i, \"02d\") + \"_\" + folders[i-1]\n",
    "    output_file = f\"{folder}/pre_training.md\"\n",
    "    ! cp {input_file} {output_file}\n",
    "    # ! rm -rf {output_file}"
   ]
  },
  {
   "cell_type": "code",
   "execution_count": null,
   "id": "693901ab-70cd-455f-a9ed-29790401df79",
   "metadata": {},
   "outputs": [],
   "source": [
    "# Training\n",
    "\n",
    "## Commonly Used Functions\n",
    "- Softplus: $\\zeta(x) = \\log(1+\\exp(x))$, a smoothed version of $x^+ = \\max(0, x)$\n",
    "- Sigmoid: $\\frac{d}{d x} \\zeta(x)=\\sigma(x) = \\frac{1}{1+\\exp (-x)}$\n",
    "- Additional properties of softplus and sigmoid:\n",
    "  - $ \\zeta(x)=\\int_{-\\infty}^x \\sigma(y) d y$\n",
    "  - $ \\frac{d}{d x} \\sigma(x)=\\sigma(x)(1-\\sigma(x))$\n",
    "  - $ 1-\\sigma(x)=\\sigma(-x)$\n",
    "  - $ \\log \\sigma(x)=-\\zeta(-x)$\n",
    "  - $ \\forall x \\in(0,1), \\sigma^{-1}(x)=\\log \\left(\\frac{x}{1-x}\\right)$\n",
    "  - $ \\zeta^{-1}(x)=\\log (\\exp (x)-1)$\n",
    "  - $ \\zeta(x)-\\zeta(-x)=x$"
   ]
  },
  {
   "cell_type": "code",
   "execution_count": null,
   "id": "405e013f-8460-400c-93cd-e2efed9eacd8",
   "metadata": {},
   "outputs": [],
   "source": [
    "a = torch.randn(size=(), requires_grad=True)\n",
    "d = f(a)\n",
    "d.backward()"
   ]
  },
  {
   "cell_type": "code",
   "execution_count": 1,
   "id": "6d054c36-b246-49c8-99a1-d50006a667bc",
   "metadata": {},
   "outputs": [],
   "source": [
    "import torch"
   ]
  },
  {
   "cell_type": "code",
   "execution_count": 3,
   "id": "c4363fe9-0680-4de3-ae7a-dfbf0a9e3d60",
   "metadata": {},
   "outputs": [],
   "source": [
    "def stat_bias(true_theta, est_theta):\n",
    "    return(torch.mean(est_theta) - true_theta)\n",
    "\n",
    "# Mean squared error\n",
    "def mse(data, true_theta):\n",
    "    return(torch.mean(torch.square(data - true_theta)))"
   ]
  },
  {
   "cell_type": "code",
   "execution_count": 5,
   "id": "c8881506-266f-4dd2-b2a0-7750a4517bbd",
   "metadata": {},
   "outputs": [],
   "source": [
    "theta_true = 1\n",
    "sigma = 4\n",
    "sample_len = 10000\n",
    "samples = torch.normal(theta_true, sigma, size=(sample_len, 1))\n",
    "theta_est = torch.mean(samples)"
   ]
  },
  {
   "cell_type": "code",
   "execution_count": 7,
   "id": "ebb35b6e-c271-4f97-8f1f-5cea3535a939",
   "metadata": {},
   "outputs": [
    {
     "data": {
      "text/plain": [
       "tensor(16.3445)"
      ]
     },
     "execution_count": 7,
     "metadata": {},
     "output_type": "execute_result"
    }
   ],
   "source": [
    "mse(samples, theta_true)"
   ]
  },
  {
   "cell_type": "code",
   "execution_count": 9,
   "id": "019873c1-cb4b-4704-9340-fb2baa39fbda",
   "metadata": {},
   "outputs": [
    {
     "data": {
      "text/plain": [
       "tensor(16.3445)"
      ]
     },
     "execution_count": 9,
     "metadata": {},
     "output_type": "execute_result"
    }
   ],
   "source": [
    "bias = stat_bias(theta_true, theta_est)\n",
    "torch.square(samples.std(unbiased=False)) + torch.square(bias)"
   ]
  },
  {
   "cell_type": "code",
   "execution_count": null,
   "id": "8701be92-640a-445f-88b4-d24b245587d0",
   "metadata": {},
   "outputs": [],
   "source": []
  }
 ],
 "metadata": {
  "kernelspec": {
   "display_name": "Python [conda env:base] *",
   "language": "python",
   "name": "conda-base-py"
  },
  "language_info": {
   "codemirror_mode": {
    "name": "ipython",
    "version": 3
   },
   "file_extension": ".py",
   "mimetype": "text/x-python",
   "name": "python",
   "nbconvert_exporter": "python",
   "pygments_lexer": "ipython3",
   "version": "3.12.2"
  }
 },
 "nbformat": 4,
 "nbformat_minor": 5
}
