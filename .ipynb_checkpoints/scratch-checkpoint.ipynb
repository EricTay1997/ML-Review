{
 "cells": [
  {
   "cell_type": "code",
   "execution_count": 3,
   "id": "65d4ea9f-9415-4e18-b0d8-484806d31e03",
   "metadata": {},
   "outputs": [],
   "source": [
    "folders = [\n",
    "    \"basics\", \"coding_practices\", \"cnns\", \"rnns_lstms\", \"attention_transformers\", \"autoencoders\", \"gans\", \n",
    "    \"diffusion\", \"gnns\", \"flows\", \"meta_learning\", \"contrastive_learning\", \"optimization\", \"computer_vision\", \"nlp\", \n",
    "    \"recommender_systems\", \"rl\", \"hyperparameter_optimization\", \"compuational_performance\", \"safety\", \"interpretability\", \n",
    "    \"applied\", \"misc\"\n",
    "]"
   ]
  },
  {
   "cell_type": "code",
   "execution_count": null,
   "id": "f9bad759-ec62-487a-8af3-20f6d67a7dac",
   "metadata": {},
   "outputs": [],
   "source": [
    "start_index = end_index = 0\n",
    "len_connected_components = len(connected_components)\n",
    "for i in range(h):\n",
    "    if i < connected_components[start_index][1] - 1:\n",
    "        continue\n",
    "    while start_index < len_connected_components and i > connected_components[start_index][2] + 1:\n",
    "        start_index += 1\n",
    "        # subtract\n",
    "    if start_index == len_connected_components:\n",
    "        continue\n",
    "    while end_index < start_index:\n",
    "        end_index += 1\n",
    "        # add\n",
    "    while end_index + 1 < len_connected_components and i <= connected_components[start_index]"
   ]
  },
  {
   "cell_type": "code",
   "execution_count": 35,
   "id": "fa29a62d-9e9f-4e47-99e5-a252fe2e4a8b",
   "metadata": {},
   "outputs": [],
   "source": [
    "input_file = \"/Users/erict/Desktop/Classical-and-Modern-Machine-Learning/modern/01_basics/pre_training.md\"\n",
    "for i in range(2, 24):\n",
    "    folder = \"/Users/erict/Desktop/Classical-and-Modern-Machine-Learning/dl/\" + format(i, \"02d\") + \"_\" + folders[i-1]\n",
    "    output_file = f\"{folder}/pre_training.md\"\n",
    "    ! cp {input_file} {output_file}\n",
    "    # ! rm -rf {output_file}"
   ]
  },
  {
   "cell_type": "markdown",
   "id": "45977669-7b47-4fdd-b54e-1b9961f6bd81",
   "metadata": {},
   "source": [
    "# Training\n",
    "\n",
    "## Commonly Used Functions\n",
    "- Softplus: $\\zeta(x) = \\log(1+\\exp(x))$, a smoothed version of $x^+ = \\max(0, x)$\n",
    "- Sigmoid: $\\frac{d}{d x} \\zeta(x)=\\sigma(x) = \\frac{1}{1+\\exp (-x)}$\n",
    "- Additional properties of softplus and sigmoid:\n",
    "  - $ \\zeta(x)=\\int_{-\\infty}^x \\sigma(y) d y$\n",
    "  - $ \\frac{d}{d x} \\sigma(x)=\\sigma(x)(1-\\sigma(x))$\n",
    "  - $ 1-\\sigma(x)=\\sigma(-x)$\n",
    "  - $ \\log \\sigma(x)=-\\zeta(-x)$\n",
    "  - $ \\forall x \\in(0,1), \\sigma^{-1}(x)=\\log \\left(\\frac{x}{1-x}\\right)$\n",
    "  - $ \\zeta^{-1}(x)=\\log (\\exp (x)-1)$\n",
    "  - $ \\zeta(x)-\\zeta(-x)=x$"
   ]
  },
  {
   "cell_type": "code",
   "execution_count": 77,
   "id": "2eab2d51-2f92-497a-8839-5e8a68f4ce1a",
   "metadata": {},
   "outputs": [
    {
     "data": {
      "text/html": [
       "<table class=\"simpletable\">\n",
       "<caption>OLS Regression Results</caption>\n",
       "<tr>\n",
       "  <th>Dep. Variable:</th>          <td>GRADE</td>      <th>  R-squared:         </th> <td>   0.416</td>\n",
       "</tr>\n",
       "<tr>\n",
       "  <th>Model:</th>                   <td>OLS</td>       <th>  Adj. R-squared:    </th> <td>   0.353</td>\n",
       "</tr>\n",
       "<tr>\n",
       "  <th>Method:</th>             <td>Least Squares</td>  <th>  F-statistic:       </th> <td>   6.646</td>\n",
       "</tr>\n",
       "<tr>\n",
       "  <th>Date:</th>             <td>Mon, 20 Jan 2025</td> <th>  Prob (F-statistic):</th>  <td>0.00157</td>\n",
       "</tr>\n",
       "<tr>\n",
       "  <th>Time:</th>                 <td>18:29:52</td>     <th>  Log-Likelihood:    </th> <td> -12.978</td>\n",
       "</tr>\n",
       "<tr>\n",
       "  <th>No. Observations:</th>      <td>    32</td>      <th>  AIC:               </th> <td>   33.96</td>\n",
       "</tr>\n",
       "<tr>\n",
       "  <th>Df Residuals:</th>          <td>    28</td>      <th>  BIC:               </th> <td>   39.82</td>\n",
       "</tr>\n",
       "<tr>\n",
       "  <th>Df Model:</th>              <td>     3</td>      <th>                     </th>     <td> </td>   \n",
       "</tr>\n",
       "<tr>\n",
       "  <th>Covariance Type:</th>      <td>nonrobust</td>    <th>                     </th>     <td> </td>   \n",
       "</tr>\n",
       "</table>\n",
       "<table class=\"simpletable\">\n",
       "<tr>\n",
       "    <td></td>       <th>coef</th>     <th>std err</th>      <th>t</th>      <th>P>|t|</th>  <th>[0.025</th>    <th>0.975]</th>  \n",
       "</tr>\n",
       "<tr>\n",
       "  <th>GPA</th>   <td>    0.4639</td> <td>    0.162</td> <td>    2.864</td> <td> 0.008</td> <td>    0.132</td> <td>    0.796</td>\n",
       "</tr>\n",
       "<tr>\n",
       "  <th>TUCE</th>  <td>    0.0105</td> <td>    0.019</td> <td>    0.539</td> <td> 0.594</td> <td>   -0.029</td> <td>    0.050</td>\n",
       "</tr>\n",
       "<tr>\n",
       "  <th>PSI</th>   <td>    0.3786</td> <td>    0.139</td> <td>    2.720</td> <td> 0.011</td> <td>    0.093</td> <td>    0.664</td>\n",
       "</tr>\n",
       "<tr>\n",
       "  <th>const</th> <td>   -1.4980</td> <td>    0.524</td> <td>   -2.859</td> <td> 0.008</td> <td>   -2.571</td> <td>   -0.425</td>\n",
       "</tr>\n",
       "</table>\n",
       "<table class=\"simpletable\">\n",
       "<tr>\n",
       "  <th>Omnibus:</th>       <td> 0.176</td> <th>  Durbin-Watson:     </th> <td>   2.346</td>\n",
       "</tr>\n",
       "<tr>\n",
       "  <th>Prob(Omnibus):</th> <td> 0.916</td> <th>  Jarque-Bera (JB):  </th> <td>   0.167</td>\n",
       "</tr>\n",
       "<tr>\n",
       "  <th>Skew:</th>          <td> 0.141</td> <th>  Prob(JB):          </th> <td>   0.920</td>\n",
       "</tr>\n",
       "<tr>\n",
       "  <th>Kurtosis:</th>      <td> 2.786</td> <th>  Cond. No.          </th> <td>    176.</td>\n",
       "</tr>\n",
       "</table><br/><br/>Notes:<br/>[1] Standard Errors assume that the covariance matrix of the errors is correctly specified."
      ],
      "text/latex": [
       "\\begin{center}\n",
       "\\begin{tabular}{lclc}\n",
       "\\toprule\n",
       "\\textbf{Dep. Variable:}    &      GRADE       & \\textbf{  R-squared:         } &     0.416   \\\\\n",
       "\\textbf{Model:}            &       OLS        & \\textbf{  Adj. R-squared:    } &     0.353   \\\\\n",
       "\\textbf{Method:}           &  Least Squares   & \\textbf{  F-statistic:       } &     6.646   \\\\\n",
       "\\textbf{Date:}             & Mon, 20 Jan 2025 & \\textbf{  Prob (F-statistic):} &  0.00157    \\\\\n",
       "\\textbf{Time:}             &     18:29:52     & \\textbf{  Log-Likelihood:    } &   -12.978   \\\\\n",
       "\\textbf{No. Observations:} &          32      & \\textbf{  AIC:               } &     33.96   \\\\\n",
       "\\textbf{Df Residuals:}     &          28      & \\textbf{  BIC:               } &     39.82   \\\\\n",
       "\\textbf{Df Model:}         &           3      & \\textbf{                     } &             \\\\\n",
       "\\textbf{Covariance Type:}  &    nonrobust     & \\textbf{                     } &             \\\\\n",
       "\\bottomrule\n",
       "\\end{tabular}\n",
       "\\begin{tabular}{lcccccc}\n",
       "               & \\textbf{coef} & \\textbf{std err} & \\textbf{t} & \\textbf{P$> |$t$|$} & \\textbf{[0.025} & \\textbf{0.975]}  \\\\\n",
       "\\midrule\n",
       "\\textbf{GPA}   &       0.4639  &        0.162     &     2.864  &         0.008        &        0.132    &        0.796     \\\\\n",
       "\\textbf{TUCE}  &       0.0105  &        0.019     &     0.539  &         0.594        &       -0.029    &        0.050     \\\\\n",
       "\\textbf{PSI}   &       0.3786  &        0.139     &     2.720  &         0.011        &        0.093    &        0.664     \\\\\n",
       "\\textbf{const} &      -1.4980  &        0.524     &    -2.859  &         0.008        &       -2.571    &       -0.425     \\\\\n",
       "\\bottomrule\n",
       "\\end{tabular}\n",
       "\\begin{tabular}{lclc}\n",
       "\\textbf{Omnibus:}       &  0.176 & \\textbf{  Durbin-Watson:     } &    2.346  \\\\\n",
       "\\textbf{Prob(Omnibus):} &  0.916 & \\textbf{  Jarque-Bera (JB):  } &    0.167  \\\\\n",
       "\\textbf{Skew:}          &  0.141 & \\textbf{  Prob(JB):          } &    0.920  \\\\\n",
       "\\textbf{Kurtosis:}      &  2.786 & \\textbf{  Cond. No.          } &     176.  \\\\\n",
       "\\bottomrule\n",
       "\\end{tabular}\n",
       "%\\caption{OLS Regression Results}\n",
       "\\end{center}\n",
       "\n",
       "Notes: \\newline\n",
       " [1] Standard Errors assume that the covariance matrix of the errors is correctly specified."
      ],
      "text/plain": [
       "<class 'statsmodels.iolib.summary.Summary'>\n",
       "\"\"\"\n",
       "                            OLS Regression Results                            \n",
       "==============================================================================\n",
       "Dep. Variable:                  GRADE   R-squared:                       0.416\n",
       "Model:                            OLS   Adj. R-squared:                  0.353\n",
       "Method:                 Least Squares   F-statistic:                     6.646\n",
       "Date:                Mon, 20 Jan 2025   Prob (F-statistic):            0.00157\n",
       "Time:                        18:29:52   Log-Likelihood:                -12.978\n",
       "No. Observations:                  32   AIC:                             33.96\n",
       "Df Residuals:                      28   BIC:                             39.82\n",
       "Df Model:                           3                                         \n",
       "Covariance Type:            nonrobust                                         \n",
       "==============================================================================\n",
       "                 coef    std err          t      P>|t|      [0.025      0.975]\n",
       "------------------------------------------------------------------------------\n",
       "GPA            0.4639      0.162      2.864      0.008       0.132       0.796\n",
       "TUCE           0.0105      0.019      0.539      0.594      -0.029       0.050\n",
       "PSI            0.3786      0.139      2.720      0.011       0.093       0.664\n",
       "const         -1.4980      0.524     -2.859      0.008      -2.571      -0.425\n",
       "==============================================================================\n",
       "Omnibus:                        0.176   Durbin-Watson:                   2.346\n",
       "Prob(Omnibus):                  0.916   Jarque-Bera (JB):                0.167\n",
       "Skew:                           0.141   Prob(JB):                        0.920\n",
       "Kurtosis:                       2.786   Cond. No.                         176.\n",
       "==============================================================================\n",
       "\n",
       "Notes:\n",
       "[1] Standard Errors assume that the covariance matrix of the errors is correctly specified.\n",
       "\"\"\""
      ]
     },
     "execution_count": 77,
     "metadata": {},
     "output_type": "execute_result"
    }
   ],
   "source": [
    "import numpy as np\n",
    "import statsmodels.api as sm\n",
    "\n",
    "spector_data = sm.datasets.spector.load()\n",
    "spector_data.exog = sm.add_constant(spector_data.exog, prepend=False)\n",
    "\n",
    "mod = sm.OLS(spector_data.endog, spector_data.exog)\n",
    "res = mod.fit()\n",
    "res.summary()"
   ]
  },
  {
   "cell_type": "code",
   "execution_count": 85,
   "id": "6ab2edcd-6070-43a0-9a40-8314ad4af663",
   "metadata": {},
   "outputs": [],
   "source": [
    "r2 = res.rsquared\n",
    "n = 32"
   ]
  },
  {
   "cell_type": "code",
   "execution_count": null,
   "id": "8f6b29ad-cff1-4c00-a86e-2d19f6ee2e89",
   "metadata": {},
   "outputs": [],
   "source": []
  },
  {
   "cell_type": "code",
   "execution_count": null,
   "id": "b81f925c-216a-4c97-9c25-437bec7ed9c0",
   "metadata": {},
   "outputs": [],
   "source": []
  },
  {
   "cell_type": "code",
   "execution_count": 94,
   "id": "f883af4f-c96d-4037-8cd8-aad3ae3bb256",
   "metadata": {},
   "outputs": [
    {
     "data": {
      "text/plain": [
       "0.3533175387830829"
      ]
     },
     "execution_count": 94,
     "metadata": {},
     "output_type": "execute_result"
    }
   ],
   "source": [
    "1- (1-r2)*(n-1)/(n-1-3)"
   ]
  },
  {
   "cell_type": "code",
   "execution_count": 90,
   "id": "d8670568-b562-47a6-bb16-16581a9a9d3c",
   "metadata": {},
   "outputs": [
    {
     "data": {
      "text/plain": [
       "0.3533175387830829"
      ]
     },
     "execution_count": 90,
     "metadata": {},
     "output_type": "execute_result"
    }
   ],
   "source": [
    "res.rsquared_adj"
   ]
  },
  {
   "cell_type": "code",
   "execution_count": null,
   "id": "53df1494-f427-4de5-8434-977ed04f6e35",
   "metadata": {},
   "outputs": [],
   "source": []
  }
 ],
 "metadata": {
  "kernelspec": {
   "display_name": "Python [conda env:base] *",
   "language": "python",
   "name": "conda-base-py"
  },
  "language_info": {
   "codemirror_mode": {
    "name": "ipython",
    "version": 3
   },
   "file_extension": ".py",
   "mimetype": "text/x-python",
   "name": "python",
   "nbconvert_exporter": "python",
   "pygments_lexer": "ipython3",
   "version": "3.12.2"
  }
 },
 "nbformat": 4,
 "nbformat_minor": 5
}
