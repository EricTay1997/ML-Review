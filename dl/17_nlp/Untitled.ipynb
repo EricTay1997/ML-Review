{
 "cells": [
  {
   "cell_type": "code",
   "execution_count": 1,
   "id": "562f60e7-bdd4-496d-b874-5ef830ec125f",
   "metadata": {},
   "outputs": [],
   "source": [
    "import torch\n",
    "\n",
    "input = torch.tensor([[1, 2, 3],\n",
    "                       [4, 5, 6]])\n",
    "\n",
    "index = torch.tensor([[0, 1],\n",
    "                       [2, 0]])\n",
    "\n",
    "output = torch.gather(input, 1, index)"
   ]
  },
  {
   "cell_type": "code",
   "execution_count": 3,
   "id": "0f8cc381-e630-48c3-a9e3-025c63be953b",
   "metadata": {},
   "outputs": [
    {
     "data": {
      "text/plain": [
       "tensor([[1, 2],\n",
       "        [6, 4]])"
      ]
     },
     "execution_count": 3,
     "metadata": {},
     "output_type": "execute_result"
    }
   ],
   "source": [
    "output"
   ]
  },
  {
   "cell_type": "code",
   "execution_count": 5,
   "id": "8f951c70-1ff4-458f-b4d3-fb88ad37a0f4",
   "metadata": {},
   "outputs": [],
   "source": [
    "input = torch.arange(24).reshape(2,3,4)"
   ]
  },
  {
   "cell_type": "code",
   "execution_count": 7,
   "id": "76b8d942-180e-496d-968e-8c9e9429460f",
   "metadata": {},
   "outputs": [
    {
     "data": {
      "text/plain": [
       "tensor([[[ 0,  1,  2,  3],\n",
       "         [ 4,  5,  6,  7],\n",
       "         [ 8,  9, 10, 11]],\n",
       "\n",
       "        [[12, 13, 14, 15],\n",
       "         [16, 17, 18, 19],\n",
       "         [20, 21, 22, 23]]])"
      ]
     },
     "execution_count": 7,
     "metadata": {},
     "output_type": "execute_result"
    }
   ],
   "source": [
    "input"
   ]
  },
  {
   "cell_type": "code",
   "execution_count": 31,
   "id": "7a903dde-1fb1-4610-99e0-a09bfdd8ec04",
   "metadata": {},
   "outputs": [
    {
     "data": {
      "text/plain": [
       "torch.Size([2, 2, 3])"
      ]
     },
     "execution_count": 31,
     "metadata": {},
     "output_type": "execute_result"
    }
   ],
   "source": [
    "torch.gather(input, -1, torch.zeros(2,2,3, dtype = torch.int64)).shape"
   ]
  },
  {
   "cell_type": "code",
   "execution_count": null,
   "id": "04109c17-e96d-4b4a-ba8f-16e5d0b5db6e",
   "metadata": {},
   "outputs": [],
   "source": []
  }
 ],
 "metadata": {
  "kernelspec": {
   "display_name": "Python [conda env:base] *",
   "language": "python",
   "name": "conda-base-py"
  },
  "language_info": {
   "codemirror_mode": {
    "name": "ipython",
    "version": 3
   },
   "file_extension": ".py",
   "mimetype": "text/x-python",
   "name": "python",
   "nbconvert_exporter": "python",
   "pygments_lexer": "ipython3",
   "version": "3.12.2"
  }
 },
 "nbformat": 4,
 "nbformat_minor": 5
}
