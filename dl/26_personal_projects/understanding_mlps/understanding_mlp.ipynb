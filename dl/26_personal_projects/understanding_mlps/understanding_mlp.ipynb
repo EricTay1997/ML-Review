{
 "cells": [
  {
   "cell_type": "markdown",
   "id": "ea82af8d-094d-4a93-8a71-d35b4db06d9e",
   "metadata": {},
   "source": []
  }
 ],
 "metadata": {
  "kernelspec": {
   "display_name": "Python [conda env:base] *",
   "language": "python",
   "name": "conda-base-py"
  },
  "language_info": {
   "codemirror_mode": {
    "name": "ipython",
    "version": 3
   },
   "file_extension": ".py",
   "mimetype": "text/x-python",
   "name": "python",
   "nbconvert_exporter": "python",
   "pygments_lexer": "ipython3",
   "version": "3.12.2"
  }
 },
 "nbformat": 4,
 "nbformat_minor": 5
}
