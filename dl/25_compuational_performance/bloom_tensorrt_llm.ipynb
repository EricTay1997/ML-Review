{
  "nbformat": 4,
  "nbformat_minor": 0,
  "metadata": {
    "colab": {
      "provenance": [],
      "gpuType": "A100"
    },
    "kernelspec": {
      "name": "python3",
      "display_name": "Python 3"
    },
    "language_info": {
      "name": "python"
    },
    "accelerator": "GPU"
  },
  "cells": [
    {
      "cell_type": "markdown",
      "source": [
        "# Install NVIDIA Container Toolkit"
      ],
      "metadata": {
        "id": "7aS15-NKgLKZ"
      }
    },
    {
      "cell_type": "code",
      "execution_count": 1,
      "metadata": {
        "colab": {
          "base_uri": "https://localhost:8080/"
        },
        "id": "569xWGuvfS7D",
        "outputId": "81f9437d-0fa6-405c-a11f-03e5acc68082"
      },
      "outputs": [
        {
          "output_type": "stream",
          "name": "stdout",
          "text": [
            "deb [signed-by=/usr/share/keyrings/nvidia-container-toolkit-keyring.gpg] https://nvidia.github.io/libnvidia-container/stable/deb/$(ARCH) /\n",
            "#deb [signed-by=/usr/share/keyrings/nvidia-container-toolkit-keyring.gpg] https://nvidia.github.io/libnvidia-container/experimental/deb/$(ARCH) /\n",
            "Get:1 https://nvidia.github.io/libnvidia-container/stable/deb/amd64  InRelease [1,477 B]\n",
            "Get:2 https://cloud.r-project.org/bin/linux/ubuntu jammy-cran40/ InRelease [3,632 B]\n",
            "Get:3 https://developer.download.nvidia.com/compute/cuda/repos/ubuntu2204/x86_64  InRelease [1,581 B]\n",
            "Get:4 https://nvidia.github.io/libnvidia-container/stable/deb/amd64  Packages [16.7 kB]\n",
            "Get:5 https://developer.download.nvidia.com/compute/cuda/repos/ubuntu2204/x86_64  Packages [1,312 kB]\n",
            "Get:6 http://security.ubuntu.com/ubuntu jammy-security InRelease [129 kB]\n",
            "Hit:7 http://archive.ubuntu.com/ubuntu jammy InRelease\n",
            "Get:8 http://archive.ubuntu.com/ubuntu jammy-updates InRelease [128 kB]\n",
            "Get:9 https://r2u.stat.illinois.edu/ubuntu jammy InRelease [6,555 B]\n",
            "Get:10 https://ppa.launchpadcontent.net/deadsnakes/ppa/ubuntu jammy InRelease [18.1 kB]\n",
            "Get:11 http://security.ubuntu.com/ubuntu jammy-security/main amd64 Packages [2,609 kB]\n",
            "Hit:12 https://ppa.launchpadcontent.net/graphics-drivers/ppa/ubuntu jammy InRelease\n",
            "Get:13 https://r2u.stat.illinois.edu/ubuntu jammy/main all Packages [8,673 kB]\n",
            "Hit:14 https://ppa.launchpadcontent.net/ubuntugis/ppa/ubuntu jammy InRelease\n",
            "Get:15 https://ppa.launchpadcontent.net/deadsnakes/ppa/ubuntu jammy/main amd64 Packages [34.0 kB]\n",
            "Get:16 http://archive.ubuntu.com/ubuntu jammy-backports InRelease [127 kB]\n",
            "Get:17 http://security.ubuntu.com/ubuntu jammy-security/restricted amd64 Packages [3,612 kB]\n",
            "Get:18 http://archive.ubuntu.com/ubuntu jammy-updates/main amd64 Packages [2,911 kB]\n",
            "Get:19 http://archive.ubuntu.com/ubuntu jammy-updates/universe amd64 Packages [1,526 kB]\n",
            "Get:20 https://r2u.stat.illinois.edu/ubuntu jammy/main amd64 Packages [2,655 kB]\n",
            "Fetched 23.8 MB in 4s (5,792 kB/s)\n",
            "Reading package lists... Done\n",
            "W: Skipping acquire of configured file 'main/source/Sources' as repository 'https://r2u.stat.illinois.edu/ubuntu jammy InRelease' does not seem to provide it (sources.list entry misspelt?)\n"
          ]
        }
      ],
      "source": [
        "!curl -fsSL https://nvidia.github.io/libnvidia-container/gpgkey | sudo gpg --dearmor -o /usr/share/keyrings/nvidia-container-toolkit-keyring.gpg \\\n",
        "  && curl -s -L https://nvidia.github.io/libnvidia-container/stable/deb/nvidia-container-toolkit.list | \\\n",
        "    sed 's#deb https://#deb [signed-by=/usr/share/keyrings/nvidia-container-toolkit-keyring.gpg] https://#g' | \\\n",
        "    sudo tee /etc/apt/sources.list.d/nvidia-container-toolkit.list\n",
        "\n",
        "!apt-get update"
      ]
    },
    {
      "cell_type": "markdown",
      "source": [
        "# Install TensorRT-LLM"
      ],
      "metadata": {
        "id": "MOXsa0kqgRIT"
      }
    },
    {
      "cell_type": "code",
      "source": [
        "!git clone https://github.com/NVIDIA/TensorRT-LLM/"
      ],
      "metadata": {
        "colab": {
          "base_uri": "https://localhost:8080/"
        },
        "id": "rC5vFAragKsp",
        "outputId": "689ee21e-61fe-4da2-dd02-f0ec4e7c6be5"
      },
      "execution_count": 2,
      "outputs": [
        {
          "output_type": "stream",
          "name": "stdout",
          "text": [
            "Cloning into 'TensorRT-LLM'...\n",
            "remote: Enumerating objects: 38685, done.\u001b[K\n",
            "remote: Counting objects: 100% (557/557), done.\u001b[K\n",
            "remote: Compressing objects: 100% (245/245), done.\u001b[K\n",
            "remote: Total 38685 (delta 379), reused 348 (delta 293), pack-reused 38128 (from 2)\u001b[K\n",
            "Receiving objects: 100% (38685/38685), 619.17 MiB | 16.78 MiB/s, done.\n",
            "Resolving deltas: 100% (27960/27960), done.\n",
            "Updating files: 100% (4699/4699), done.\n",
            "Filtering content: 100% (16/16), 567.47 MiB | 65.47 MiB/s, done.\n"
          ]
        }
      ]
    },
    {
      "cell_type": "code",
      "source": [
        "!sudo apt-get install python3.10\n",
        "!sudo update-alternatives --install /usr/bin/python3 python3 /usr/bin/python3.10 1\n",
        "!sudo update-alternatives --set python3 /usr/bin/python3.10"
      ],
      "metadata": {
        "colab": {
          "base_uri": "https://localhost:8080/"
        },
        "id": "DHRELAfTkWkD",
        "outputId": "5321af49-f304-49f6-ca9a-9219715584e5"
      },
      "execution_count": 3,
      "outputs": [
        {
          "output_type": "stream",
          "name": "stdout",
          "text": [
            "Reading package lists... Done\n",
            "Building dependency tree... Done\n",
            "Reading state information... Done\n",
            "python3.10 is already the newest version (3.10.12-1~22.04.8).\n",
            "python3.10 set to manually installed.\n",
            "0 upgraded, 0 newly installed, 0 to remove and 21 not upgraded.\n",
            "update-alternatives: using /usr/bin/python3.10 to provide /usr/bin/python3 (python3) in manual mode\n"
          ]
        }
      ]
    },
    {
      "cell_type": "code",
      "source": [
        "!apt-get update && apt-get -y install python3.10 python3-pip openmpi-bin libopenmpi-dev\n",
        "!pip install tensorrt_llm -U --pre --extra-index-url https://pypi.nvidia.com"
      ],
      "metadata": {
        "id": "ZHctaX4RhMYw"
      },
      "execution_count": 131,
      "outputs": []
    },
    {
      "cell_type": "code",
      "source": [
        "# !python3 -c \"import tensorrt_llm\""
      ],
      "metadata": {
        "id": "VOshQoc3volB",
        "colab": {
          "base_uri": "https://localhost:8080/"
        },
        "outputId": "f81b3869-cbdf-4112-b917-0372901d1e58"
      },
      "execution_count": null,
      "outputs": [
        {
          "output_type": "stream",
          "name": "stdout",
          "text": [
            "[TensorRT-LLM] TensorRT-LLM version: 0.17.0.dev2024121700\n"
          ]
        }
      ]
    },
    {
      "cell_type": "code",
      "source": [
        "# !ls"
      ],
      "metadata": {
        "colab": {
          "base_uri": "https://localhost:8080/"
        },
        "id": "64Tg3ZaYrc6j",
        "outputId": "8efe8bc6-f124-4884-a636-e1d3c61dc5df"
      },
      "execution_count": null,
      "outputs": [
        {
          "output_type": "stream",
          "name": "stdout",
          "text": [
            "sample_data  TensorRT-LLM\n"
          ]
        }
      ]
    },
    {
      "cell_type": "markdown",
      "source": [
        "# Download Bloom"
      ],
      "metadata": {
        "id": "kyIKdyjdgVpU"
      }
    },
    {
      "cell_type": "code",
      "source": [
        "# !pip install -r TensorRT-LLM/examples/bloom/requirements.txt\n",
        "!pip install tensorrt_llm>=0.0.dev0 datasets~=2.14.5 evaluate rouge_score sentencepiece>=0.1.99"
      ],
      "metadata": {
        "id": "Jh_49wUBgKvY"
      },
      "execution_count": null,
      "outputs": []
    },
    {
      "cell_type": "code",
      "source": [
        "BLOOM_PATH=\"TensorRT-LLM/examples/bloom\"\n",
        "\n",
        "!rm -rf $BLOOM_PATH/560M\n",
        "!mkdir -p $BLOOM_PATH/560M && git clone https://huggingface.co/bigscience/bloom-560m $BLOOM_PATH/560M"
      ],
      "metadata": {
        "colab": {
          "base_uri": "https://localhost:8080/"
        },
        "id": "bHDjjPuohV1x",
        "outputId": "1a894570-426c-4751-f177-9255f96df7bb"
      },
      "execution_count": 5,
      "outputs": [
        {
          "output_type": "stream",
          "name": "stdout",
          "text": [
            "Cloning into 'TensorRT-LLM/examples/bloom/560M'...\n",
            "remote: Enumerating objects: 111, done.\u001b[K\n",
            "remote: Counting objects: 100% (13/13), done.\u001b[K\n",
            "remote: Compressing objects: 100% (13/13), done.\u001b[K\n",
            "remote: Total 111 (delta 0), reused 0 (delta 0), pack-reused 98 (from 1)\u001b[K\n",
            "Receiving objects: 100% (111/111), 29.15 KiB | 14.57 MiB/s, done.\n",
            "Resolving deltas: 100% (52/52), done.\n",
            "Filtering content: 100% (11/11), 12.27 GiB | 72.78 MiB/s, done.\n"
          ]
        }
      ]
    },
    {
      "cell_type": "markdown",
      "source": [
        "# Convert and Build"
      ],
      "metadata": {
        "id": "BQsBgV_fgXfs"
      }
    },
    {
      "cell_type": "code",
      "source": [
        "# default\n",
        "!python3 $BLOOM_PATH/convert_checkpoint.py --model_dir $BLOOM_PATH/560M/ \\\n",
        "                --dtype float16 \\\n",
        "                --output_dir $BLOOM_PATH/560M/trt_ckpt/fp16/1-gpu/\n",
        "\n",
        "!trtllm-build --checkpoint_dir $BLOOM_PATH/560M/trt_ckpt/fp16/1-gpu/ \\\n",
        "                --gemm_plugin float16 \\\n",
        "                --output_dir $BLOOM_PATH/560M/trt_engines/fp16/1-gpu/"
      ],
      "metadata": {
        "colab": {
          "base_uri": "https://localhost:8080/"
        },
        "collapsed": true,
        "id": "m3LulDRg4BB3",
        "outputId": "42f47899-f5c0-408f-e56f-329390427744"
      },
      "execution_count": 9,
      "outputs": [
        {
          "output_type": "stream",
          "name": "stdout",
          "text": [
            "[TensorRT-LLM] TensorRT-LLM version: 0.17.0.dev2024121700\n",
            "0.17.0.dev2024121700\n",
            "[02/13/2025-03:17:59] [TRT-LLM] [I] Convert by using checkpoint\n",
            "[02/13/2025-03:17:59] [TRT-LLM] [I] Loading weights from HF BLOOM...\n",
            "\rRank [0] Loading weights:   0% 0/1 [00:00<?, ?it/s]\rRank [0] Loading weights: 100% 1/1 [00:00<00:00, 10.78it/s]\n",
            "[02/13/2025-03:17:59] [TRT-LLM] [I] Weights loaded. Total time: 00:00:00\n",
            "Total time of converting checkpoints: 00:00:02\n",
            "[TensorRT-LLM] TensorRT-LLM version: 0.17.0.dev2024121700\n",
            "[02/13/2025-03:18:07] [TRT-LLM] [I] Set bert_attention_plugin to auto.\n",
            "[02/13/2025-03:18:07] [TRT-LLM] [I] Set gpt_attention_plugin to auto.\n",
            "[02/13/2025-03:18:07] [TRT-LLM] [I] Set gemm_plugin to float16.\n",
            "[02/13/2025-03:18:07] [TRT-LLM] [I] Set gemm_swiglu_plugin to None.\n",
            "[02/13/2025-03:18:07] [TRT-LLM] [I] Set fp8_rowwise_gemm_plugin to None.\n",
            "[02/13/2025-03:18:07] [TRT-LLM] [I] Set nccl_plugin to auto.\n",
            "[02/13/2025-03:18:07] [TRT-LLM] [I] Set lora_plugin to None.\n",
            "[02/13/2025-03:18:07] [TRT-LLM] [I] Set moe_plugin to auto.\n",
            "[02/13/2025-03:18:07] [TRT-LLM] [I] Set mamba_conv1d_plugin to auto.\n",
            "[02/13/2025-03:18:07] [TRT-LLM] [I] Set low_latency_gemm_plugin to None.\n",
            "[02/13/2025-03:18:07] [TRT-LLM] [I] Set low_latency_gemm_swiglu_plugin to None.\n",
            "[02/13/2025-03:18:07] [TRT-LLM] [I] Set context_fmha to True.\n",
            "[02/13/2025-03:18:07] [TRT-LLM] [I] Set bert_context_fmha_fp32_acc to False.\n",
            "[02/13/2025-03:18:07] [TRT-LLM] [I] Set remove_input_padding to True.\n",
            "[02/13/2025-03:18:07] [TRT-LLM] [I] Set reduce_fusion to False.\n",
            "[02/13/2025-03:18:07] [TRT-LLM] [I] Set user_buffer to False.\n",
            "[02/13/2025-03:18:07] [TRT-LLM] [I] Set tokens_per_block to 64.\n",
            "[02/13/2025-03:18:07] [TRT-LLM] [I] Set use_paged_context_fmha to False.\n",
            "[02/13/2025-03:18:07] [TRT-LLM] [I] Set use_fp8_context_fmha to False.\n",
            "[02/13/2025-03:18:07] [TRT-LLM] [I] Set multiple_profiles to False.\n",
            "[02/13/2025-03:18:07] [TRT-LLM] [I] Set paged_state to True.\n",
            "[02/13/2025-03:18:07] [TRT-LLM] [I] Set streamingllm to False.\n",
            "[02/13/2025-03:18:07] [TRT-LLM] [I] Set use_fused_mlp to True.\n",
            "[02/13/2025-03:18:07] [TRT-LLM] [I] Set pp_reduce_scatter to False.\n",
            "[02/13/2025-03:18:07] [TRT-LLM] [I] Set dtype to float16.\n",
            "[02/13/2025-03:18:07] [TRT-LLM] [I] Set paged_kv_cache to True.\n",
            "[02/13/2025-03:18:07] [TRT-LLM] [W] Overriding paged_state to False\n",
            "[02/13/2025-03:18:07] [TRT-LLM] [I] Set paged_state to False.\n",
            "[02/13/2025-03:18:07] [TRT-LLM] [I] max_seq_len is not specified, using deduced value 2048\n",
            "[02/13/2025-03:18:07] [TRT-LLM] [W] remove_input_padding is enabled, while opt_num_tokens is not set, setting to max_batch_size*max_beam_width. \n",
            "\n",
            "[02/13/2025-03:18:07] [TRT-LLM] [W] padding removal and fMHA are both enabled, max_input_len is not required and will be ignored\n",
            "[02/13/2025-03:18:08] [TRT] [I] [MemUsageChange] Init CUDA: CPU -16, GPU +0, now: CPU 169, GPU 423 (MiB)\n",
            "[02/13/2025-03:18:11] [TRT] [I] [MemUsageChange] Init builder kernel library: CPU +2038, GPU +374, now: CPU 2360, GPU 797 (MiB)\n",
            "[02/13/2025-03:18:11] [TRT-LLM] [I] Set nccl_plugin to None.\n",
            "[02/13/2025-03:18:11] [TRT-LLM] [I] Total time of constructing network from module object 4.025633096694946 seconds\n",
            "[02/13/2025-03:18:11] [TRT-LLM] [I] Total optimization profiles added: 1\n",
            "[02/13/2025-03:18:11] [TRT-LLM] [I] Total time to initialize the weights in network Unnamed Network 0: 00:00:00\n",
            "[02/13/2025-03:18:11] [TRT-LLM] [I] Build TensorRT engine Unnamed Network 0\n",
            "[02/13/2025-03:18:11] [TRT] [W] Unused Input: position_ids\n",
            "[02/13/2025-03:18:11] [TRT] [W] [RemoveDeadLayers] Input Tensor position_ids is unused or used only at compile-time, but is not being removed.\n",
            "[02/13/2025-03:18:11] [TRT] [I] Global timing cache in use. Profiling results in this builder pass will be stored.\n",
            "[02/13/2025-03:18:11] [TRT] [I] Compiler backend is used during engine build.\n",
            "[02/13/2025-03:18:15] [TRT] [I] [GraphReduction] The approximate region cut reduction algorithm is called.\n",
            "[02/13/2025-03:18:15] [TRT] [I] Detected 17 inputs and 1 output network tensors.\n",
            "[02/13/2025-03:18:16] [TRT] [I] Total Host Persistent Memory: 76784 bytes\n",
            "[02/13/2025-03:18:16] [TRT] [I] Total Device Persistent Memory: 0 bytes\n",
            "[02/13/2025-03:18:16] [TRT] [I] Max Scratch Memory: 38183552 bytes\n",
            "[02/13/2025-03:18:16] [TRT] [I] [BlockAssignment] Started assigning block shifts. This will take 426 steps to complete.\n",
            "[02/13/2025-03:18:16] [TRT] [I] [BlockAssignment] Algorithm ShiftNTopDown took 41.2924ms to assign 20 blocks to 426 nodes requiring 1161829376 bytes.\n",
            "[02/13/2025-03:18:16] [TRT] [I] Total Activation Memory: 1161827840 bytes\n",
            "[02/13/2025-03:18:16] [TRT] [I] Total Weights Memory: 1632232320 bytes\n",
            "[02/13/2025-03:18:16] [TRT] [I] Compiler backend is used during engine execution.\n",
            "[02/13/2025-03:18:16] [TRT] [I] Engine generation completed in 5.08173 seconds.\n",
            "[02/13/2025-03:18:16] [TRT] [I] [MemUsageStats] Peak memory usage of TRT CPU/GPU memory allocators: CPU 0 MiB, GPU 2940 MiB\n",
            "[02/13/2025-03:18:18] [TRT-LLM] [I] Total time of building Unnamed Network 0: 00:00:06\n",
            "[02/13/2025-03:18:18] [TRT] [I] Serialized 27 bytes of code generator cache.\n",
            "[02/13/2025-03:18:18] [TRT] [I] Serialized 167510 bytes of compilation cache.\n",
            "[02/13/2025-03:18:18] [TRT] [I] Serialized 12 timing cache entries\n",
            "[02/13/2025-03:18:18] [TRT-LLM] [I] Timing cache serialized to model.cache\n",
            "[02/13/2025-03:18:18] [TRT-LLM] [I] Build phase peak memory: 7493.31 MB, children: 21.86 MB\n",
            "[02/13/2025-03:18:18] [TRT-LLM] [I] Serializing engine to TensorRT-LLM/examples/bloom/560M/trt_engines/fp16/1-gpu/rank0.engine...\n",
            "[02/13/2025-03:18:19] [TRT-LLM] [I] Engine serialized. Total time: 00:00:01\n",
            "[02/13/2025-03:18:19] [TRT-LLM] [I] Total time of building all engines: 00:00:12\n"
          ]
        }
      ]
    },
    {
      "cell_type": "code",
      "source": [
        "# int8 weight\n",
        "!python3 $BLOOM_PATH/convert_checkpoint.py --model_dir $BLOOM_PATH/560M \\\n",
        "                --dtype float16 \\\n",
        "                --use_weight_only \\\n",
        "                --output_dir $BLOOM_PATH/560M/trt_ckpt/int8_weight_only/1-gpu/\n",
        "\n",
        "!trtllm-build --checkpoint_dir $BLOOM_PATH/560M/trt_ckpt/int8_weight_only/1-gpu/ \\\n",
        "                --gemm_plugin float16 \\\n",
        "                --output_dir $BLOOM_PATH/560M/trt_engines/int8_weight_only/1-gpu/"
      ],
      "metadata": {
        "colab": {
          "base_uri": "https://localhost:8080/"
        },
        "collapsed": true,
        "id": "oocRp-Z74BLX",
        "outputId": "ff9c5a19-7fb1-42a9-a370-34640b14490c"
      },
      "execution_count": 10,
      "outputs": [
        {
          "output_type": "stream",
          "name": "stdout",
          "text": [
            "[TensorRT-LLM] TensorRT-LLM version: 0.17.0.dev2024121700\n",
            "0.17.0.dev2024121700\n",
            "[02/13/2025-03:18:26] [TRT-LLM] [I] Convert by using model\n",
            "The argument `trust_remote_code` is to be used with Auto classes. It has no effect here and is ignored.\n",
            "Weights loaded. Total time: 00:00:05\n",
            "Total time of converting checkpoints: 00:00:08\n",
            "[TensorRT-LLM] TensorRT-LLM version: 0.17.0.dev2024121700\n",
            "[02/13/2025-03:18:41] [TRT-LLM] [I] Set bert_attention_plugin to auto.\n",
            "[02/13/2025-03:18:41] [TRT-LLM] [I] Set gpt_attention_plugin to auto.\n",
            "[02/13/2025-03:18:41] [TRT-LLM] [I] Set gemm_plugin to float16.\n",
            "[02/13/2025-03:18:41] [TRT-LLM] [I] Set gemm_swiglu_plugin to None.\n",
            "[02/13/2025-03:18:41] [TRT-LLM] [I] Set fp8_rowwise_gemm_plugin to None.\n",
            "[02/13/2025-03:18:41] [TRT-LLM] [I] Set nccl_plugin to auto.\n",
            "[02/13/2025-03:18:41] [TRT-LLM] [I] Set lora_plugin to None.\n",
            "[02/13/2025-03:18:41] [TRT-LLM] [I] Set moe_plugin to auto.\n",
            "[02/13/2025-03:18:41] [TRT-LLM] [I] Set mamba_conv1d_plugin to auto.\n",
            "[02/13/2025-03:18:41] [TRT-LLM] [I] Set low_latency_gemm_plugin to None.\n",
            "[02/13/2025-03:18:41] [TRT-LLM] [I] Set low_latency_gemm_swiglu_plugin to None.\n",
            "[02/13/2025-03:18:41] [TRT-LLM] [I] Set context_fmha to True.\n",
            "[02/13/2025-03:18:41] [TRT-LLM] [I] Set bert_context_fmha_fp32_acc to False.\n",
            "[02/13/2025-03:18:41] [TRT-LLM] [I] Set remove_input_padding to True.\n",
            "[02/13/2025-03:18:41] [TRT-LLM] [I] Set reduce_fusion to False.\n",
            "[02/13/2025-03:18:41] [TRT-LLM] [I] Set user_buffer to False.\n",
            "[02/13/2025-03:18:41] [TRT-LLM] [I] Set tokens_per_block to 64.\n",
            "[02/13/2025-03:18:41] [TRT-LLM] [I] Set use_paged_context_fmha to False.\n",
            "[02/13/2025-03:18:41] [TRT-LLM] [I] Set use_fp8_context_fmha to False.\n",
            "[02/13/2025-03:18:41] [TRT-LLM] [I] Set multiple_profiles to False.\n",
            "[02/13/2025-03:18:41] [TRT-LLM] [I] Set paged_state to True.\n",
            "[02/13/2025-03:18:41] [TRT-LLM] [I] Set streamingllm to False.\n",
            "[02/13/2025-03:18:41] [TRT-LLM] [I] Set use_fused_mlp to True.\n",
            "[02/13/2025-03:18:41] [TRT-LLM] [I] Set pp_reduce_scatter to False.\n",
            "[02/13/2025-03:18:41] [TRT-LLM] [I] Set dtype to float16.\n",
            "[02/13/2025-03:18:41] [TRT-LLM] [I] Set paged_kv_cache to True.\n",
            "[02/13/2025-03:18:41] [TRT-LLM] [W] Overriding paged_state to False\n",
            "[02/13/2025-03:18:41] [TRT-LLM] [I] Set paged_state to False.\n",
            "[02/13/2025-03:18:41] [TRT-LLM] [I] max_seq_len is not specified, using deduced value 2048\n",
            "[02/13/2025-03:18:41] [TRT-LLM] [W] remove_input_padding is enabled, while opt_num_tokens is not set, setting to max_batch_size*max_beam_width. \n",
            "\n",
            "[02/13/2025-03:18:41] [TRT-LLM] [W] padding removal and fMHA are both enabled, max_input_len is not required and will be ignored\n",
            "[02/13/2025-03:18:41] [TRT] [I] [MemUsageChange] Init CUDA: CPU +9, GPU +0, now: CPU 166, GPU 423 (MiB)\n",
            "[02/13/2025-03:18:44] [TRT] [I] [MemUsageChange] Init builder kernel library: CPU +2038, GPU +374, now: CPU 2360, GPU 797 (MiB)\n",
            "[02/13/2025-03:18:44] [TRT-LLM] [I] Set weight_only_quant_matmul_plugin to float16.\n",
            "[02/13/2025-03:18:44] [TRT-LLM] [I] Set nccl_plugin to None.\n",
            "[02/13/2025-03:18:45] [TRT-LLM] [I] Total time of constructing network from module object 4.049673557281494 seconds\n",
            "[02/13/2025-03:18:45] [TRT-LLM] [I] Total optimization profiles added: 1\n",
            "[02/13/2025-03:18:45] [TRT-LLM] [I] Total time to initialize the weights in network Unnamed Network 0: 00:00:00\n",
            "[02/13/2025-03:18:45] [TRT-LLM] [I] Build TensorRT engine Unnamed Network 0\n",
            "[02/13/2025-03:18:45] [TRT] [W] Unused Input: position_ids\n",
            "[02/13/2025-03:18:45] [TRT] [W] [RemoveDeadLayers] Input Tensor position_ids is unused or used only at compile-time, but is not being removed.\n",
            "[02/13/2025-03:18:45] [TRT] [I] Global timing cache in use. Profiling results in this builder pass will be stored.\n",
            "[02/13/2025-03:18:45] [TRT] [I] Compiler backend is used during engine build.\n",
            "[02/13/2025-03:18:48] [TRT] [I] [GraphReduction] The approximate region cut reduction algorithm is called.\n",
            "[02/13/2025-03:18:48] [TRT] [I] Detected 17 inputs and 1 output network tensors.\n",
            "[02/13/2025-03:18:50] [TRT] [I] Total Host Persistent Memory: 84080 bytes\n",
            "[02/13/2025-03:18:50] [TRT] [I] Total Device Persistent Memory: 0 bytes\n",
            "[02/13/2025-03:18:50] [TRT] [I] Max Scratch Memory: 38183552 bytes\n",
            "[02/13/2025-03:18:50] [TRT] [I] [BlockAssignment] Started assigning block shifts. This will take 402 steps to complete.\n",
            "[02/13/2025-03:18:50] [TRT] [I] [BlockAssignment] Algorithm ShiftNTopDown took 44.2557ms to assign 18 blocks to 402 nodes requiring 1132468736 bytes.\n",
            "[02/13/2025-03:18:50] [TRT] [I] Total Activation Memory: 1132468224 bytes\n",
            "[02/13/2025-03:18:50] [TRT] [I] Total Weights Memory: 1330768768 bytes\n",
            "[02/13/2025-03:18:50] [TRT] [I] Compiler backend is used during engine execution.\n",
            "[02/13/2025-03:18:53] [TRT] [I] Engine generation completed in 7.59997 seconds.\n",
            "[02/13/2025-03:18:53] [TRT] [I] [MemUsageStats] Peak memory usage of TRT CPU/GPU memory allocators: CPU 0 MiB, GPU 2941 MiB\n",
            "[02/13/2025-03:18:54] [TRT-LLM] [I] Total time of building Unnamed Network 0: 00:00:08\n",
            "[02/13/2025-03:18:54] [TRT] [I] Serialized 27 bytes of code generator cache.\n",
            "[02/13/2025-03:18:54] [TRT] [I] Serialized 163614 bytes of compilation cache.\n",
            "[02/13/2025-03:18:54] [TRT] [I] Serialized 13 timing cache entries\n",
            "[02/13/2025-03:18:54] [TRT-LLM] [I] Timing cache serialized to model.cache\n",
            "[02/13/2025-03:18:54] [TRT-LLM] [I] Build phase peak memory: 6943.46 MB, children: 21.80 MB\n",
            "[02/13/2025-03:18:54] [TRT-LLM] [I] Serializing engine to TensorRT-LLM/examples/bloom/560M/trt_engines/int8_weight_only/1-gpu/rank0.engine...\n",
            "[02/13/2025-03:18:55] [TRT-LLM] [I] Engine serialized. Total time: 00:00:01\n",
            "[02/13/2025-03:18:55] [TRT-LLM] [I] Total time of building all engines: 00:00:14\n"
          ]
        }
      ]
    },
    {
      "cell_type": "code",
      "source": [
        "# int4 weight\n",
        "!python3 $BLOOM_PATH/convert_checkpoint.py --model_dir $BLOOM_PATH/560M \\\n",
        "                --dtype float16 \\\n",
        "                --use_weight_only \\\n",
        "                --weight_only_precision int4 \\\n",
        "                --output_dir $BLOOM_PATH/560M/trt_ckpt/int4_weight_only/1-gpu/\n",
        "\n",
        "!trtllm-build --checkpoint_dir $BLOOM_PATH/560M/trt_ckpt/int4_weight_only/1-gpu/ \\\n",
        "                --gemm_plugin float16 \\\n",
        "                --output_dir $BLOOM_PATH/560M/trt_engines/int4_weight_only/1-gpu/"
      ],
      "metadata": {
        "id": "0gb5N-jFMEGG"
      },
      "execution_count": 13,
      "outputs": []
    },
    {
      "cell_type": "code",
      "source": [
        "# # int8 weight + int8 kv cache\n",
        "# !python3 $BLOOM_PATH/convert_checkpoint.py --model_dir $BLOOM_PATH/560M \\\n",
        "#                 --dtype float16 \\\n",
        "#                 --use_weight_only \\\n",
        "#                 --int8_kv_cache \\\n",
        "#                 --output_dir $BLOOM_PATH/560M/trt_ckpt/int8/1-gpu/\n",
        "# !trtllm-build --checkpoint_dir $BLOOM_PATH/560M/trt_ckpt/int8/1-gpu/ \\\n",
        "#                 --gemm_plugin float16 \\\n",
        "#                 --output_dir $BLOOM_PATH/560M/trt_ckpt/int8/1-gpu/"
      ],
      "metadata": {
        "id": "-mW_NAX4JG8o"
      },
      "execution_count": 48,
      "outputs": []
    },
    {
      "cell_type": "code",
      "source": [
        "# int4 weight + int8 kv cache\n",
        "# !python3 $BLOOM_PATH/convert_checkpoint.py --model_dir $BLOOM_PATH/560M \\\n",
        "#                 --dtype float16 \\\n",
        "#                 --use_weight_only \\\n",
        "#                 --weight_only_precision int4 \\\n",
        "#                 --int8_kv_cache \\\n",
        "#                 --output_dir $BLOOM_PATH/560M/trt_ckpt/int4_weight_int8_kv/1-gpu/\n",
        "# ! trtllm-build --checkpoint_dir $BLOOM_PATH/560M/trt_ckpt/int4_weight_int8_kv/1-gpu/ \\\n",
        "#                 --gemm_plugin float16 \\\n",
        "#                 --output_dir .$BLOOM_PATH/560M/trt_ckpt/int4_weight_int8_kv/1-gpu/"
      ],
      "metadata": {
        "id": "jo7yvlMPMU7b"
      },
      "execution_count": 49,
      "outputs": []
    },
    {
      "cell_type": "markdown",
      "source": [
        "# Benchmark"
      ],
      "metadata": {
        "id": "sIC8PHxTg9Bx"
      }
    },
    {
      "cell_type": "code",
      "source": [
        "%%capture bloom_hf_results\n",
        "!time python3 $BLOOM_PATH/../summarize.py --test_hf \\\n",
        "                       --hf_model_dir $BLOOM_PATH/560M/ \\\n",
        "                       --data_type fp16 \\\n",
        "                       --engine_dir $BLOOM_PATH/560M/trt_engines/fp16/1-gpu/"
      ],
      "metadata": {
        "id": "MsS1yznKgK0f"
      },
      "execution_count": 27,
      "outputs": []
    },
    {
      "cell_type": "code",
      "source": [
        "%%capture bloom_trt_results\n",
        "!time python3 $BLOOM_PATH/../summarize.py --test_trt_llm \\\n",
        "                       --hf_model_dir $BLOOM_PATH/560M/ \\\n",
        "                       --data_type fp16 \\\n",
        "                       --engine_dir $BLOOM_PATH/560M/trt_engines/fp16/1-gpu/"
      ],
      "metadata": {
        "id": "or7_EY0S41wz"
      },
      "execution_count": 28,
      "outputs": []
    },
    {
      "cell_type": "code",
      "source": [
        "%%capture bloom_int8_weight_only_results\n",
        "!time python3 $BLOOM_PATH/../summarize.py --test_trt_llm \\\n",
        "                       --hf_model_dir $BLOOM_PATH/560M/ \\\n",
        "                       --data_type fp16 \\\n",
        "                       --engine_dir $BLOOM_PATH/560M/trt_engines/int8_weight_only/1-gpu/"
      ],
      "metadata": {
        "id": "Jgrtgu2K42yy"
      },
      "execution_count": 29,
      "outputs": []
    },
    {
      "cell_type": "code",
      "source": [
        "%%capture bloom_int4_weight_only_results\n",
        "!time python3 $BLOOM_PATH/../summarize.py --test_trt_llm \\\n",
        "                       --hf_model_dir $BLOOM_PATH/560M/ \\\n",
        "                       --data_type fp16 \\\n",
        "                       --engine_dir $BLOOM_PATH/560M/trt_engines/int4_weight_only/1-gpu/"
      ],
      "metadata": {
        "id": "qfW0c83aXXhs"
      },
      "execution_count": 30,
      "outputs": []
    },
    {
      "cell_type": "code",
      "source": [
        "print(bloom_hf_results())"
      ],
      "metadata": {
        "colab": {
          "base_uri": "https://localhost:8080/"
        },
        "id": "10wxddVIdlbn",
        "outputId": "2c73837a-45a0-4c87-fdb9-8976d5463769"
      },
      "execution_count": 60,
      "outputs": [
        {
          "output_type": "stream",
          "name": "stdout",
          "text": [
            "[TensorRT-LLM] TensorRT-LLM version: 0.17.0.dev2024121700\n",
            "[02/13/2025-03:39:29] [TRT-LLM] [I] Load tokenizer takes: 1.0151162147521973 sec\n",
            "The class `optimum.bettertransformers.transformation.BetterTransformer` is deprecated and will be removed in a future release.\n",
            "Instantiating BloomAttentionLayerBetterTransformer without passing a `layer_idx` is not recommended and will lead to errors during the forward call if caching is used. Please make sure to provide a `layer_idx` when creating this class.\n",
            "The BetterTransformer implementation does not support padding during training, as the fused kernels do not support attention masks. Beware that passing padded batched data during training may result in unexpected outputs. Please refer to https://huggingface.co/docs/optimum/bettertransformer/overview for more details.\n",
            "[02/13/2025-03:39:34] [TRT-LLM] [I] Load HF model takes: 0.6965329647064209 sec\n",
            "From v4.47 onwards, when a model cache is to be returned, `generate` will return a `Cache` instance instead by default (as opposed to the legacy tuple of tuples format). If you want to keep returning the legacy format, please set `return_legacy_cache=True`.\n",
            "[02/13/2025-03:39:37] [TRT-LLM] [I] ---------------------------------------------------------\n",
            "[02/13/2025-03:39:37] [TRT-LLM] [I] HF Generated : \n",
            "[02/13/2025-03:39:37] [TRT-LLM] [I]  Input : ['(CNN)James Best, best known for his portrayal of bumbling sheriff Rosco P. Coltrane on TV\\'s \"The Dukes of Hazzard,\" died Monday after a brief illness. He was 88. Best died in hospice in Hickory, North Carolina, of complications from pneumonia, said Steve Latshaw, a longtime friend and Hollywood colleague. Although he\\'d been a busy actor for decades in theater and in Hollywood, Best didn\\'t become famous until 1979, when \"The Dukes of Hazzard\\'s\" cornpone charms began beaming into millions of American homes almost every Friday night. For seven seasons, Best\\'s Rosco P. Coltrane chased the moonshine-running Duke boys back and forth across the back roads of fictitious Hazzard County, Georgia, although his \"hot pursuit\" usually ended with him crashing his patrol car. Although Rosco was slow-witted and corrupt, Best gave him a childlike enthusiasm that got laughs and made him endearing. His character became known for his distinctive \"kew-kew-kew\" chuckle and for goofy catchphrases such as \"cuff \\'em and stuff \\'em!\" upon making an arrest. Among the most popular shows on TV in the early \\'80s, \"The Dukes of Hazzard\" ran until 1985 and spawned TV movies, an animated series and video games. Several of Best\\'s \"Hazzard\" co-stars paid tribute to the late actor on social media. \"I laughed and learned more from Jimmie in one hour than from anyone else in a whole year,\" co-star John Schneider, who played Bo Duke, said on Twitter. \"Give Uncle Jesse my love when you see him dear friend.\" \"Jimmy Best was the most constantly creative person I have ever known,\" said Ben Jones, who played mechanic Cooter on the show, in a Facebook post. \"Every minute of his long life was spent acting, writing, producing, painting, teaching, fishing, or involved in another of his life\\'s many passions.\" Born Jewel Guy on July 26, 1926, in Powderly, Kentucky, Best was orphaned at 3 and adopted by Armen and Essa Best, who renamed him James and raised him in rural Indiana. Best served in the Army during World War II before launching his acting career. In the 1950s and 1960s, he accumulated scores of credits, playing a range of colorful supporting characters in such TV shows as \"The Twilight Zone,\" \"Bonanza,\" \"The Andy Griffith Show\" and \"Gunsmoke.\" He later appeared in a handful of Burt Reynolds\\' movies, including \"Hooper\" and \"The End.\" But Best will always be best known for his \"Hazzard\" role, which lives on in reruns. \"Jimmie was my teacher, mentor, close friend and collaborator for 26 years,\" Latshaw said. \"I directed two of his feature films, including the recent \\'Return of the Killer Shrews,\\' a sequel he co-wrote and was quite proud of as he had made the first one more than 50 years earlier.\" People we\\'ve lost in 2015 . CNN\\'s Stella Chan contributed to this story.']\n",
            "[02/13/2025-03:39:37] [TRT-LLM] [I] \n",
            " Reference : ['James Best, who played the sheriff on \"The Dukes of Hazzard,\" died Monday at 88 .\\n\"Hazzard\" ran from 1979 to 1985 and was among the most popular shows on TV .']\n",
            "[02/13/2025-03:39:37] [TRT-LLM] [I] \n",
            " Output : [[' The actor who played the Duke boys in the TV series \"Hazzard\" died at age 88. He was the son of James and Essa Best, who named him James and raised him in rural Indiana. Best served in the Army during World War II before launching his acting career. In the 1950s and 1960s, he accumulated scores of credits, playing a range of colorful supporting characters in such TV shows as \"The Twilight Zone,\" \"Bonanza,\" \"The Andy Griffith Show\" and \"Guns']]\n",
            "[02/13/2025-03:39:37] [TRT-LLM] [I] ---------------------------------------------------------\n",
            "[02/13/2025-03:40:18] [TRT-LLM] [I] Hugging Face (total latency: 40.845093965530396 sec)\n",
            "[02/13/2025-03:40:18] [TRT-LLM] [I] Hugging Face (total output tokens: 1658)\n",
            "[02/13/2025-03:40:18] [TRT-LLM] [I] Hugging Face (tokens per second: 40.59239039575239)\n",
            "[02/13/2025-03:40:18] [TRT-LLM] [I] HF beam 0 result\n",
            "[02/13/2025-03:40:18] [TRT-LLM] [I]   rouge1 : 17.095172727418873\n",
            "INFO:TRT-LLM:[TRT-LLM] [I]   rouge1 : 17.095172727418873\n",
            "[02/13/2025-03:40:18] [TRT-LLM] [I]   rouge2 : 3.795699715902623\n",
            "INFO:TRT-LLM:[TRT-LLM] [I]   rouge2 : 3.795699715902623\n",
            "[02/13/2025-03:40:18] [TRT-LLM] [I]   rougeL : 12.717086602427196\n",
            "INFO:TRT-LLM:[TRT-LLM] [I]   rougeL : 12.717086602427196\n",
            "[02/13/2025-03:40:18] [TRT-LLM] [I]   rougeLsum : 13.877992130282074\n",
            "INFO:TRT-LLM:[TRT-LLM] [I]   rougeLsum : 13.877992130282074\n",
            "\n",
            "real\t0m56.970s\n",
            "user\t0m52.253s\n",
            "sys\t0m2.866s\n",
            "None\n"
          ]
        }
      ]
    },
    {
      "cell_type": "code",
      "source": [
        "# Example output captured\n",
        "print(bloom_trt_results())"
      ],
      "metadata": {
        "colab": {
          "base_uri": "https://localhost:8080/"
        },
        "id": "Z07ckCqB4389",
        "outputId": "1bf6f07d-3f79-417d-bb9f-d58da10b380c"
      },
      "execution_count": 50,
      "outputs": [
        {
          "output_type": "stream",
          "name": "stdout",
          "text": [
            "[TensorRT-LLM] TensorRT-LLM version: 0.17.0.dev2024121700\n",
            "[02/13/2025-03:40:26] [TRT-LLM] [I] Load tokenizer takes: 1.0257225036621094 sec\n",
            "[TensorRT-LLM][INFO] Engine version 0.17.0.dev2024121700 found in the config file, assuming engine(s) built by new builder API.\n",
            "[02/13/2025-03:40:30] [TRT-LLM] [I] Using C++ session\n",
            "[TensorRT-LLM][INFO] Engine version 0.17.0.dev2024121700 found in the config file, assuming engine(s) built by new builder API.\n",
            "[TensorRT-LLM][INFO] MPI size: 1, MPI local size: 1, rank: 0\n",
            "[TensorRT-LLM][INFO] Engine version 0.17.0.dev2024121700 found in the config file, assuming engine(s) built by new builder API.\n",
            "[TensorRT-LLM][INFO] Refreshed the MPI local session\n",
            "[TensorRT-LLM][INFO] MPI size: 1, MPI local size: 1, rank: 0\n",
            "[TensorRT-LLM][INFO] Rank 0 is using GPU 0\n",
            "[TensorRT-LLM][WARNING] Fix optionalParams : KV cache reuse disabled because model was not built with paged context FMHA support\n",
            "[TensorRT-LLM][INFO] TRTGptModel maxNumSequences: 1\n",
            "[TensorRT-LLM][INFO] TRTGptModel maxBatchSize: 1\n",
            "[TensorRT-LLM][INFO] TRTGptModel maxBeamWidth: 1\n",
            "[TensorRT-LLM][INFO] TRTGptModel maxSequenceLen: 2048\n",
            "[TensorRT-LLM][INFO] TRTGptModel maxDraftLen: 0\n",
            "[TensorRT-LLM][INFO] TRTGptModel mMaxAttentionWindowSize: (2048) * 24\n",
            "[TensorRT-LLM][INFO] TRTGptModel enableTrtOverlap: 0\n",
            "[TensorRT-LLM][INFO] TRTGptModel normalizeLogProbs: 1\n",
            "[TensorRT-LLM][INFO] TRTGptModel maxNumTokens: 8192\n",
            "[TensorRT-LLM][INFO] TRTGptModel maxInputLen: 2047 = min(maxSequenceLen - 1, maxNumTokens) since context FMHA and usePackedInput are enabled\n",
            "[TensorRT-LLM][INFO] TRTGptModel If model type is encoder, maxInputLen would be reset in trtEncoderModel to maxInputLen: min(maxSequenceLen, maxNumTokens).\n",
            "[TensorRT-LLM][INFO] Capacity Scheduler Policy: GUARANTEED_NO_EVICT\n",
            "[TensorRT-LLM][INFO] Context Chunking Scheduler Policy: None\n",
            "[TensorRT-LLM][INFO] Loaded engine size: 1560 MiB\n",
            "[TensorRT-LLM][INFO] Inspecting the engine to identify potential runtime issues...\n",
            "[TensorRT-LLM][INFO] The profiling verbosity of the engine does not allow this analysis to proceed. Re-build the engine with 'detailed' profiling verbosity to get more diagnostics.\n",
            "[TensorRT-LLM][INFO] [MemUsageChange] Allocated 1108.01 MiB for execution context memory.\n",
            "[TensorRT-LLM][INFO] [MemUsageChange] TensorRT-managed allocation in IExecutionContext creation: CPU +0, GPU +0, now: CPU 0, GPU 1556 (MiB)\n",
            "[TensorRT-LLM][INFO] [MemUsageChange] Allocated 1.04 MB GPU memory for runtime buffers.\n",
            "[TensorRT-LLM][INFO] [MemUsageChange] Allocated 3.92 MB GPU memory for decoder.\n",
            "[TensorRT-LLM][INFO] Memory usage when calculating max tokens in paged kv cache: total: 39.56 GiB, available: 36.48 GiB\n",
            "[TensorRT-LLM][INFO] Number of blocks in KV cache primary pool: 5604\n",
            "[TensorRT-LLM][INFO] Number of blocks in KV cache secondary pool: 0, onboard blocks to primary memory before reuse: true\n",
            "[TensorRT-LLM][INFO] Max KV cache pages per sequence: 32\n",
            "[TensorRT-LLM][INFO] Number of tokens per block: 64.\n",
            "[TensorRT-LLM][INFO] [MemUsageChange] Allocated 32.84 GiB for max tokens in paged KV cache (358656).\n",
            "[TensorRT-LLM][INFO] Enable MPI KV cache transport.\n",
            "[02/13/2025-03:40:33] [TRT-LLM] [I] Load engine takes: 2.3937556743621826 sec\n",
            "[02/13/2025-03:40:33] [TRT-LLM] [I] ---------------------------------------------------------\n",
            "[02/13/2025-03:40:33] [TRT-LLM] [I] TensorRT-LLM Generated : \n",
            "[02/13/2025-03:40:33] [TRT-LLM] [I]  Input : ['(CNN)James Best, best known for his portrayal of bumbling sheriff Rosco P. Coltrane on TV\\'s \"The Dukes of Hazzard,\" died Monday after a brief illness. He was 88. Best died in hospice in Hickory, North Carolina, of complications from pneumonia, said Steve Latshaw, a longtime friend and Hollywood colleague. Although he\\'d been a busy actor for decades in theater and in Hollywood, Best didn\\'t become famous until 1979, when \"The Dukes of Hazzard\\'s\" cornpone charms began beaming into millions of American homes almost every Friday night. For seven seasons, Best\\'s Rosco P. Coltrane chased the moonshine-running Duke boys back and forth across the back roads of fictitious Hazzard County, Georgia, although his \"hot pursuit\" usually ended with him crashing his patrol car. Although Rosco was slow-witted and corrupt, Best gave him a childlike enthusiasm that got laughs and made him endearing. His character became known for his distinctive \"kew-kew-kew\" chuckle and for goofy catchphrases such as \"cuff \\'em and stuff \\'em!\" upon making an arrest. Among the most popular shows on TV in the early \\'80s, \"The Dukes of Hazzard\" ran until 1985 and spawned TV movies, an animated series and video games. Several of Best\\'s \"Hazzard\" co-stars paid tribute to the late actor on social media. \"I laughed and learned more from Jimmie in one hour than from anyone else in a whole year,\" co-star John Schneider, who played Bo Duke, said on Twitter. \"Give Uncle Jesse my love when you see him dear friend.\" \"Jimmy Best was the most constantly creative person I have ever known,\" said Ben Jones, who played mechanic Cooter on the show, in a Facebook post. \"Every minute of his long life was spent acting, writing, producing, painting, teaching, fishing, or involved in another of his life\\'s many passions.\" Born Jewel Guy on July 26, 1926, in Powderly, Kentucky, Best was orphaned at 3 and adopted by Armen and Essa Best, who renamed him James and raised him in rural Indiana. Best served in the Army during World War II before launching his acting career. In the 1950s and 1960s, he accumulated scores of credits, playing a range of colorful supporting characters in such TV shows as \"The Twilight Zone,\" \"Bonanza,\" \"The Andy Griffith Show\" and \"Gunsmoke.\" He later appeared in a handful of Burt Reynolds\\' movies, including \"Hooper\" and \"The End.\" But Best will always be best known for his \"Hazzard\" role, which lives on in reruns. \"Jimmie was my teacher, mentor, close friend and collaborator for 26 years,\" Latshaw said. \"I directed two of his feature films, including the recent \\'Return of the Killer Shrews,\\' a sequel he co-wrote and was quite proud of as he had made the first one more than 50 years earlier.\" People we\\'ve lost in 2015 . CNN\\'s Stella Chan contributed to this story.']\n",
            "[02/13/2025-03:40:33] [TRT-LLM] [I] \n",
            " Reference : ['James Best, who played the sheriff on \"The Dukes of Hazzard,\" died Monday at 88 .\\n\"Hazzard\" ran from 1979 to 1985 and was among the most popular shows on TV .']\n",
            "[02/13/2025-03:40:33] [TRT-LLM] [I] \n",
            " Output : [[' The actor who played Rosco Coltrane in the hit TV series \"Hazzard\" died on Monday. He was 88. Best died in hospice in Hickory, North Carolina, of complications from pneumonia, said Steve Latshaw, a longtime friend and Hollywood colleague. Although he\\'d been a busy actor for decades in theater and in Hollywood, Best didn\\'t become famous until 1979, when \"The Dukes of Hazzard\\'s\" cornpone charms began beaming into millions of']]\n",
            "[02/13/2025-03:40:33] [TRT-LLM] [I] ---------------------------------------------------------\n",
            "[TensorRT-LLM][INFO] Refreshed the MPI local session\n",
            "[02/13/2025-03:40:38] [TRT-LLM] [I] TensorRT-LLM (total latency: 5.12476658821106 sec)\n",
            "[02/13/2025-03:40:38] [TRT-LLM] [I] TensorRT-LLM (total output tokens: 1678)\n",
            "[02/13/2025-03:40:38] [TRT-LLM] [I] TensorRT-LLM (tokens per second: 327.4295465202352)\n",
            "[02/13/2025-03:40:38] [TRT-LLM] [I] TensorRT-LLM beam 0 result\n",
            "[02/13/2025-03:40:39] [TRT-LLM] [I]   rouge1 : 17.33843040873399\n",
            "INFO:TRT-LLM:[TRT-LLM] [I]   rouge1 : 17.33843040873399\n",
            "[02/13/2025-03:40:39] [TRT-LLM] [I]   rouge2 : 4.353159039416418\n",
            "INFO:TRT-LLM:[TRT-LLM] [I]   rouge2 : 4.353159039416418\n",
            "[02/13/2025-03:40:39] [TRT-LLM] [I]   rougeL : 13.207068327346175\n",
            "INFO:TRT-LLM:[TRT-LLM] [I]   rougeL : 13.207068327346175\n",
            "[02/13/2025-03:40:39] [TRT-LLM] [I]   rougeLsum : 14.984333067074123\n",
            "INFO:TRT-LLM:[TRT-LLM] [I]   rougeLsum : 14.984333067074123\n",
            "\n",
            "real\t0m20.576s\n",
            "user\t0m14.908s\n",
            "sys\t0m4.004s\n",
            "None\n"
          ]
        }
      ]
    },
    {
      "cell_type": "code",
      "source": [
        "import re\n",
        "\n",
        "def parse_output(output):\n",
        "    # Extracting execution time\n",
        "    time_match = re.search(r'real\\s+(\\d+)m([\\d.]+)s', output.stdout)\n",
        "    if time_match:\n",
        "        minutes = int(time_match.group(1))\n",
        "        seconds = float(time_match.group(2))\n",
        "        exec_time = minutes * 60 + seconds\n",
        "    else:\n",
        "        exec_time = None\n",
        "\n",
        "    rouge_scores = re.findall(r'rouge[12Lsum]+ : ([\\d.]+)', output.stdout)\n",
        "    rouge_scores = [float(score) for score in rouge_scores] if rouge_scores else []\n",
        "\n",
        "    latency_match = re.search(r'total latency: ([\\d.]+) sec', output.stdout)\n",
        "    latency = float(latency_match.group(1)) if latency_match else None\n",
        "\n",
        "    tokens_match = re.search(r'total output tokens: (\\d+)', output.stdout)\n",
        "    total_tokens = int(tokens_match.group(1)) if tokens_match else None\n",
        "\n",
        "    tokens_per_sec_match = re.search(r'tokens per second: ([\\d.]+)', output.stdout)\n",
        "    tokens_per_sec = float(tokens_per_sec_match.group(1)) if tokens_per_sec_match else None\n",
        "\n",
        "    return exec_time, rouge_scores, latency, total_tokens, tokens_per_sec"
      ],
      "metadata": {
        "id": "zqpfHZnv445j"
      },
      "execution_count": 51,
      "outputs": []
    },
    {
      "cell_type": "code",
      "source": [
        "# For bloom_hf_results\n",
        "bloom_hf_exec_time, bloom_hf_rouge, bloom_hf_latency, bloom_hf_tokens, bloom_hf_tokens_per_sec = parse_output(bloom_hf_results)\n",
        "\n",
        "# Only TensorRT-LLM optimized models have Tokens/s, latency, and total tokens\n",
        "bloom_trt_exec_time, bloom_trt_rouge, bloom_trt_latency, bloom_trt_tokens, bloom_trt_tokens_per_sec = parse_output(bloom_trt_results)\n",
        "bloom_int8_exec_time, bloom_int8_rouge, bloom_int8_latency, bloom_int8_tokens, bloom_int8_tokens_per_sec = parse_output(bloom_int8_weight_only_results)\n",
        "bloom_int4_exec_time, bloom_int4_rouge, bloom_int4_latency, bloom_int4_tokens, bloom_int4_tokens_per_sec = parse_output(bloom_int4_weight_only_results)"
      ],
      "metadata": {
        "id": "Hqlmxn_v48XO"
      },
      "execution_count": 62,
      "outputs": []
    },
    {
      "cell_type": "code",
      "source": [
        "%matplotlib inline\n",
        "import matplotlib.pyplot as plt\n",
        "\n",
        "# Execution times and Rouge Scores\n",
        "exec_times = [bloom_hf_exec_time, bloom_trt_exec_time, bloom_int8_exec_time, bloom_int4_exec_time]\n",
        "models = ['HF', 'TRT', 'INT8', 'INT4']\n",
        "colors = ['blue', 'green', 'red', 'orange']\n",
        "\n",
        "plt.figure(figsize=(15, 5))\n",
        "\n",
        "# Plotting execution times\n",
        "plt.subplot(1, 5, 1)\n",
        "plt.bar(models, exec_times, color=colors)\n",
        "plt.title('Time Comparison (lower is better)')\n",
        "plt.ylabel('Execution Time (seconds)')\n",
        "plt.xlabel('Model')\n",
        "\n",
        "# Plotting ROUGE-1 scores\n",
        "rouge1_scores = [bloom_hf_rouge[0], bloom_trt_rouge[0], bloom_int8_rouge[0], bloom_int4_rouge[0]]\n",
        "plt.subplot(1, 5, 2)\n",
        "plt.bar(models, rouge1_scores, color=colors)\n",
        "plt.title('ROUGE-1 (higher is better)')\n",
        "plt.ylabel('ROUGE-1 Score')\n",
        "plt.xlabel('Model')\n",
        "\n",
        "# Plotting ROUGE-2 scores\n",
        "rouge_lsum_scores = [bloom_hf_rouge[2], bloom_trt_rouge[2], bloom_int8_rouge[2], bloom_int4_rouge[2]]\n",
        "plt.subplot(1, 5, 3)\n",
        "plt.bar(models, rouge_lsum_scores, color=colors)\n",
        "plt.title('ROUGE-2 (higher is better)')\n",
        "plt.ylabel('ROUGE-2 Score')\n",
        "plt.xlabel('Model')\n",
        "\n",
        "# Plotting ROUGE-L scores\n",
        "rouge_lsum_scores = [bloom_hf_rouge[4], bloom_trt_rouge[4], bloom_int8_rouge[4], bloom_int4_rouge[4]]\n",
        "plt.subplot(1, 5, 4)\n",
        "plt.bar(models, rouge_lsum_scores, color=colors)\n",
        "plt.title('ROUGE-L (higher is better)')\n",
        "plt.ylabel('ROUGE-L Score')\n",
        "plt.xlabel('Model')\n",
        "\n",
        "# Plotting ROUGE-Lsum scores\n",
        "rouge_lsum_scores = [bloom_hf_rouge[6], bloom_trt_rouge[6], bloom_int8_rouge[6], bloom_int4_rouge[6]]\n",
        "plt.subplot(1, 5, 5)\n",
        "plt.bar(models, rouge_lsum_scores, color=colors)\n",
        "plt.title('ROUGE-Lsum (higher is better)')\n",
        "plt.ylabel('ROUGE-Lsum Score')\n",
        "plt.xlabel('Model')"
      ],
      "metadata": {
        "colab": {
          "base_uri": "https://localhost:8080/",
          "height": 433
        },
        "id": "vNof5NqF4-Ic",
        "outputId": "29571acc-9705-4564-931a-7256a698d165"
      },
      "execution_count": 67,
      "outputs": [
        {
          "output_type": "execute_result",
          "data": {
            "text/plain": [
              "Text(0.5, 0, 'Model')"
            ]
          },
          "metadata": {},
          "execution_count": 67
        },
        {
          "output_type": "display_data",
          "data": {
            "text/plain": [
              "<Figure size 1500x500 with 5 Axes>"
            ],
            "image/png": "[encoded data removed]"
          },
          "metadata": {}
        }
      ]
    },
    {
      "cell_type": "code",
      "source": [
        "print([bloom_hf_exec_time, bloom_trt_exec_time, bloom_int8_exec_time, bloom_int4_exec_time])\n",
        "print([bloom_hf_rouge[0], bloom_trt_rouge[0], bloom_int8_rouge[0], bloom_int4_rouge[0]])\n",
        "print([bloom_hf_rouge[2], bloom_trt_rouge[2], bloom_int8_rouge[2], bloom_int4_rouge[2]])\n",
        "print([bloom_hf_rouge[4], bloom_trt_rouge[4], bloom_int8_rouge[4], bloom_int4_rouge[4]])\n",
        "print([bloom_hf_rouge[6], bloom_trt_rouge[6], bloom_int8_rouge[6], bloom_int4_rouge[6]])"
      ],
      "metadata": {
        "colab": {
          "base_uri": "https://localhost:8080/"
        },
        "id": "oC0NcSB6jIPx",
        "outputId": "fa2e31f7-bc26-4313-8c73-69933c70feb7"
      },
      "execution_count": 81,
      "outputs": [
        {
          "output_type": "stream",
          "name": "stdout",
          "text": [
            "[56.97, 20.576, 20.217, 20.177]\n",
            "[17.095172727418873, 17.33843040873399, 19.074609358061146, 13.125924945274017]\n",
            "[3.795699715902623, 4.353159039416418, 5.282891075286857, 2.480766718024665]\n",
            "[12.717086602427196, 13.207068327346175, 14.608177414082293, 10.773874970318579]\n",
            "[13.877992130282074, 14.984333067074123, 16.237407607256692, 11.912078543309276]\n"
          ]
        }
      ]
    },
    {
      "cell_type": "code",
      "source": [
        "# Latency and Tokens per Sec\n",
        "latencies = [bloom_hf_latency, bloom_trt_latency, bloom_int8_latency, bloom_int4_latency]\n",
        "tps = [bloom_hf_tokens_per_sec, bloom_trt_tokens_per_sec, bloom_int8_tokens_per_sec, bloom_int4_tokens_per_sec]\n",
        "plt.figure(figsize=(10, 5))\n",
        "\n",
        "# Plotting latency times\n",
        "plt.subplot(1, 2, 1)\n",
        "plt.bar(models, latencies, color=colors)\n",
        "plt.title('Latency (lower is better)')\n",
        "plt.ylabel('Time (seconds)')\n",
        "plt.xlabel('Model')\n",
        "\n",
        "# Plotting tokens per seconds\n",
        "plt.subplot(1, 2, 2)\n",
        "plt.bar(models, tps, color=colors)\n",
        "plt.title('Tokens per second (higher is better)')\n",
        "plt.ylabel('Tokens/sec')\n",
        "plt.xlabel('Model')"
      ],
      "metadata": {
        "colab": {
          "base_uri": "https://localhost:8080/",
          "height": 504
        },
        "id": "k86XP7yJ4_kc",
        "outputId": "803d82d5-ddb4-47dc-fe03-f786edf0a045"
      },
      "execution_count": 63,
      "outputs": [
        {
          "output_type": "execute_result",
          "data": {
            "text/plain": [
              "Text(0.5, 0, 'Model')"
            ]
          },
          "metadata": {},
          "execution_count": 63
        },
        {
          "output_type": "display_data",
          "data": {
            "text/plain": [
              "<Figure size 1000x500 with 2 Axes>"
            ],
            "image/png": "[encoded data removed]"
          },
          "metadata": {}
        }
      ]
    },
    {
      "cell_type": "code",
      "source": [
        "print(latencies)\n",
        "print(tps)"
      ],
      "metadata": {
        "colab": {
          "base_uri": "https://localhost:8080/"
        },
        "id": "ZUppHFaujTlE",
        "outputId": "dec092d0-0084-4368-8e34-494f38b04e95"
      },
      "execution_count": 82,
      "outputs": [
        {
          "output_type": "stream",
          "name": "stdout",
          "text": [
            "[40.845093965530396, 5.12476658821106, 4.788208484649658, 5.609415769577026]\n",
            "[40.59239039575239, 327.4295465202352, 331.8568949313959, 330.6939753085685]\n"
          ]
        }
      ]
    },
    {
      "cell_type": "code",
      "source": [
        "%%capture bloom_int8_batch_size_1_results\n",
        "!time python3 $BLOOM_PATH/../summarize.py --test_trt_llm \\\n",
        "                       --hf_model_dir $BLOOM_PATH/560M/ \\\n",
        "                       --batch_size 1 \\\n",
        "                       --data_type fp16 \\\n",
        "                       --engine_dir $BLOOM_PATH/560M/trt_engines/int8_weight_only/1-gpu/"
      ],
      "metadata": {
        "id": "-B_aFO__ddds"
      },
      "execution_count": 68,
      "outputs": []
    },
    {
      "cell_type": "code",
      "source": [
        "%%capture bloom_int8_batch_size_64_ttft_results\n",
        "!time python3 $BLOOM_PATH/../summarize.py --test_trt_llm \\\n",
        "                       --hf_model_dir $BLOOM_PATH/560M/ \\\n",
        "                       --batch_size 64 \\\n",
        "                       --data_type fp16 \\\n",
        "                       --output_len 1 --engine_dir $BLOOM_PATH/560M/trt_engines/int8_weight_only/1-gpu/"
      ],
      "metadata": {
        "id": "3N5wEIpKsYIe"
      },
      "execution_count": 118,
      "outputs": []
    },
    {
      "cell_type": "code",
      "source": [
        "%%capture bloom_int8_batch_size_32_results\n",
        "!time python3 $BLOOM_PATH/../summarize.py --test_trt_llm \\\n",
        "                       --hf_model_dir $BLOOM_PATH/560M/ \\\n",
        "                       --batch_size 32 \\\n",
        "                       --data_type fp16 \\\n",
        "                       --engine_dir $BLOOM_PATH/560M/trt_engines/int8_weight_only/1-gpu/"
      ],
      "metadata": {
        "id": "YrNjpPYxhsIy"
      },
      "execution_count": 100,
      "outputs": []
    },
    {
      "cell_type": "code",
      "source": [
        "bs_1_exec_time, bs_1_rouge, bs_1_latency, bs_1_tokens, bs_1_tokens_per_sec = parse_output(bloom_int8_batch_size_1_results)\n",
        "bs_2_exec_time, bs_2_rouge, bs_2_latency, bs_2_tokens, bs_2_tokens_per_sec = parse_output(bloom_int8_batch_size_2_results)\n",
        "bs_4_exec_time, bs_4_rouge, bs_4_latency, bs_4_tokens, bs_4_tokens_per_sec = parse_output(bloom_int8_batch_size_4_results)\n",
        "bs_8_exec_time, bs_8_rouge, bs_8_latency, bs_8_tokens, bs_8_tokens_per_sec = parse_output(bloom_int8_batch_size_8_results)\n",
        "bs_16_exec_time, bs_16_rouge, bs_16_latency, bs_16_tokens, bs_16_tokens_per_sec = parse_output(bloom_int8_batch_size_16_results)\n",
        "bs_32_exec_time, bs_32_rouge, bs_32_latency, bs_32_tokens, bs_32_tokens_per_sec = parse_output(bloom_int8_batch_size_32_results)\n",
        "bs_64_exec_time, bs_64_rouge, bs_64_latency, bs_64_tokens, bs_64_tokens_per_sec = parse_output(bloom_int8_batch_size_64_results)"
      ],
      "metadata": {
        "id": "viF4qDTNht7t"
      },
      "execution_count": 75,
      "outputs": []
    },
    {
      "cell_type": "code",
      "source": [
        "[bs_1_tokens_per_sec, bs_2_tokens_per_sec, bs_4_tokens_per_sec, bs_8_tokens_per_sec, bs_16_tokens_per_sec, bs_32_tokens_per_sec, bs_64_tokens_per_sec, bs_128_tokens_per_sec, bs_256_tokens_per_sec]"
      ],
      "metadata": {
        "colab": {
          "base_uri": "https://localhost:8080/"
        },
        "id": "PFcE_BysiGT9",
        "outputId": "02d66821-0923-48d1-fc59-ada44c3f877c"
      },
      "execution_count": 84,
      "outputs": [
        {
          "output_type": "execute_result",
          "data": {
            "text/plain": [
              "[331.5600738085986,\n",
              " 553.4985956443181,\n",
              " 937.1651275973113,\n",
              " 1540.0512241564004,\n",
              " 2466.5301727095966,\n",
              " 3641.288504346288,\n",
              " 4803.227845267365,\n",
              " 5888.262246845619,\n",
              " 6413.5573808859435]"
            ]
          },
          "metadata": {},
          "execution_count": 84
        }
      ]
    },
    {
      "cell_type": "code",
      "source": [
        "[bs_1_latency, bs_2_latency, bs_4_latency, bs_8_latency, bs_16_latency, bs_32_latency, bs_64_latency, bs_128_latency, bs_256_latency]"
      ],
      "metadata": {
        "colab": {
          "base_uri": "https://localhost:8080/"
        },
        "id": "xpxg3A7NiKun",
        "outputId": "8429336a-eed5-4d87-ff35-f6546c4fb864"
      },
      "execution_count": 89,
      "outputs": [
        {
          "output_type": "execute_result",
          "data": {
            "text/plain": [
              "[4.792495012283325,\n",
              " 5.721785068511963,\n",
              " 6.333995819091797,\n",
              " 8.095185279846191,\n",
              " 10.029879331588745,\n",
              " 13.808848142623901,\n",
              " 21.328782081604004,\n",
              " 37.29368543624878,\n",
              " 70.49285960197449]"
            ]
          },
          "metadata": {},
          "execution_count": 89
        }
      ]
    }
  ]
}