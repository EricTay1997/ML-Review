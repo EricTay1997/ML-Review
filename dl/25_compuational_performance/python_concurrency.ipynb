{
 "cells": [
  {
   "cell_type": "markdown",
   "id": "b607b5ba-ed4f-46ba-b0cd-f571b1b947d5",
   "metadata": {},
   "source": [
    "# Threading"
   ]
  },
  {
   "cell_type": "code",
   "execution_count": 79,
   "id": "4c0ae781-4c36-46c0-8369-d780b20aa6df",
   "metadata": {},
   "outputs": [
    {
     "name": "stdout",
     "output_type": "stream",
     "text": [
      "JRJRJRJRJRJRJRJRJRJRJRJRJRJRJRJRJRJRJRJRJRJRJRJRJRJRJRJRJRJRJRJRJRJRJRJRJRJRJRJRJRJRJRJRJRJRJRJRJRJRJRJRJRJRJRJRJRJRJRJRJRJRJRJRJRJRJRJRJRJRJRJRJRJRJRJRJRJRJRJRDownloaded 160 sites in 7.431119749999198 seconds\n"
     ]
    }
   ],
   "source": [
    "# Synchronous\n",
    "\n",
    "import requests\n",
    "import time\n",
    "import concurrent.futures\n",
    "import threading\n",
    "\n",
    "def download_site(url):\n",
    "    requests.get(url)\n",
    "    indicator = \"J\" if \"jython\" in url else \"R\"\n",
    "    print(indicator, sep='', end='', flush=True)\n",
    "\n",
    "def download_site_verbose(url):\n",
    "    with requests.Session() as session:\n",
    "        response = session.get(url)\n",
    "        indicator = \"J\" if \"jython\" in url else \"R\"\n",
    "        print(indicator, sep='', end='', flush=True)\n",
    "\n",
    "sites = [\n",
    "        \"https://www.jython.org\",\n",
    "        \"http://olympus.realpython.org/dice\",\n",
    "    ] * 80\n",
    "\n",
    "start = time.perf_counter()\n",
    "for url in sites:\n",
    "    download_site(url)\n",
    "duration = time.perf_counter() - start\n",
    "print(f\"Downloaded {len(sites)} sites in {duration} seconds\")"
   ]
  },
  {
   "cell_type": "code",
   "execution_count": 81,
   "id": "37602932-3ad9-4ffe-933c-cd178b141314",
   "metadata": {},
   "outputs": [
    {
     "name": "stdout",
     "output_type": "stream",
     "text": [
      "RRJJJJJRRRJJRRJRRRJJJRRJJRRRJJJRRJJRJJJRRJRRRJJJRJRRJJRRJJRRJRJJRRRJRJJRRJJRJJRRJRRJJRRJJJRRJJRRJJRRJJRJRRJJRRJRRJJRRRJJJJJRRRJRJRJRRRJJJJRRJRJRJRJRJRJJRRRJJRJRDownloaded 160 sites in 1.4381094589989516 seconds\n"
     ]
    }
   ],
   "source": [
    "start = time.perf_counter()\n",
    "with concurrent.futures.ThreadPoolExecutor(max_workers=5) as executor:\n",
    "    executor.map(download_site, sites)\n",
    "duration = time.perf_counter() - start\n",
    "print(f\"Downloaded {len(sites)} sites in {duration} seconds\")"
   ]
  },
  {
   "cell_type": "code",
   "execution_count": 83,
   "id": "24912a2a-2bae-487e-9533-809a9c43355b",
   "metadata": {},
   "outputs": [
    {
     "name": "stdout",
     "output_type": "stream",
     "text": [
      "RRJJJJJRRRJRRJJJRJRRJRJJRRJJRRJRJJRRJRJRRJJRJRRJJRJJRJRRJJRRRJJJRRRRJJJRRJJRRJJRJRRJJRRRJJJRRJJRJJRRJJJRRRJRRJJRJRRJJRJJRRJRJRRJRJJJRJRRRJJRJRJRJRJJJRRRJRJJRJRRDownloaded 160 sites in 1.4759474589955062 seconds\n"
     ]
    }
   ],
   "source": [
    "start = time.perf_counter()\n",
    "with concurrent.futures.ThreadPoolExecutor(max_workers=5) as executor:\n",
    "    executor.map(download_site_verbose, sites)\n",
    "duration = time.perf_counter() - start\n",
    "print(f\"Downloaded {len(sites)} sites in {duration} seconds\")"
   ]
  },
  {
   "cell_type": "code",
   "execution_count": 87,
   "id": "132a0b6f-d0ee-4884-bf74-aa66da625bb9",
   "metadata": {},
   "outputs": [
    {
     "name": "stdout",
     "output_type": "stream",
     "text": [
      "starting with balance of 100\n",
      "deposit thread updating...\n",
      "withdrawal thread updating...\n",
      "deposit thread finishing...\n",
      "withdrawal thread finishing...\n",
      "ending balance of 0\n"
     ]
    }
   ],
   "source": [
    "# Locking, submit\n",
    "class Account:\n",
    "    def __init__(self):\n",
    "        self.balance = 100 # shared data\n",
    "        self.lock = threading.Lock()\n",
    "    def update(self, transaction, amount):\n",
    "        print(f'{transaction} thread updating...')\n",
    "        with self.lock:\n",
    "            local_copy = self.balance\n",
    "            local_copy += amount\n",
    "            time.sleep(1)\n",
    "            self.balance = local_copy\n",
    "        print(f'{transaction} thread finishing...')\n",
    "\n",
    "account = Account()\n",
    "print(f'starting with balance of {account.balance}')\n",
    "with concurrent.futures.ThreadPoolExecutor(max_workers=2) as ex:\n",
    "    for transaction, amount in [('deposit', 50), ('withdrawal', -150)]:\n",
    "        ex.submit(account.update, transaction, amount)\n",
    "print(f'ending balance of {account.balance}')"
   ]
  },
  {
   "cell_type": "code",
   "execution_count": 103,
   "id": "e422d92e-e83d-4814-b412-ef8ef48d1683",
   "metadata": {},
   "outputs": [
    {
     "name": "stdout",
     "output_type": "stream",
     "text": [
      "False\n",
      "True\n",
      "False\n"
     ]
    }
   ],
   "source": [
    "# Event\n",
    "event = threading.Event()\n",
    "print(event.is_set())\n",
    "event.set()\n",
    "print(event.is_set())\n",
    "event.clear()\n",
    "print(event.is_set())"
   ]
  },
  {
   "cell_type": "code",
   "execution_count": 107,
   "id": "4d6225f7-62e7-47e5-a4ff-6f23b0222847",
   "metadata": {},
   "outputs": [
    {
     "name": "stdout",
     "output_type": "stream",
     "text": [
      "9\n",
      "10\n"
     ]
    }
   ],
   "source": [
    "s = threading.Semaphore(value=10)\n",
    "s.acquire()\n",
    "print(s._value)\n",
    "s.release()\n",
    "print(s._value)"
   ]
  },
  {
   "cell_type": "code",
   "execution_count": 119,
   "id": "16173f69-1621-4226-babc-f30194d07895",
   "metadata": {},
   "outputs": [
    {
     "name": "stdout",
     "output_type": "stream",
     "text": [
      "welcome visitor #0\n",
      "[monitor] semaphore=9\n",
      "welcome visitor #0\n",
      "[monitor] semaphore=1\n",
      "welcome visitor #0\n",
      "welcome visitor #0\n",
      "welcome visitor #0\n",
      "welcome visitor #0\n",
      "welcome visitor #0\n",
      "[monitor] semaphore=3\n",
      "welcome visitor #0\n",
      "welcome visitor #0\n",
      "[monitor] semaphore=1\n",
      "welcome visitor #0\n",
      "welcome visitor #0\n"
     ]
    },
    {
     "ename": "KeyboardInterrupt",
     "evalue": "",
     "output_type": "error",
     "traceback": [
      "\u001b[0;31m---------------------------------------------------------------------------\u001b[0m",
      "\u001b[0;31mKeyboardInterrupt\u001b[0m                         Traceback (most recent call last)",
      "Cell \u001b[0;32mIn[119], line 26\u001b[0m\n\u001b[1;32m     24\u001b[0m stop \u001b[38;5;241m=\u001b[39m threading\u001b[38;5;241m.\u001b[39mEvent()\n\u001b[1;32m     25\u001b[0m semaphore \u001b[38;5;241m=\u001b[39m threading\u001b[38;5;241m.\u001b[39mSemaphore(value\u001b[38;5;241m=\u001b[39m\u001b[38;5;241m10\u001b[39m)\n\u001b[0;32m---> 26\u001b[0m \u001b[38;5;28;01mwith\u001b[39;00m concurrent\u001b[38;5;241m.\u001b[39mfutures\u001b[38;5;241m.\u001b[39mThreadPoolExecutor(max_workers\u001b[38;5;241m=\u001b[39m\u001b[38;5;241m2\u001b[39m) \u001b[38;5;28;01mas\u001b[39;00m executor:\n\u001b[1;32m     27\u001b[0m     executor\u001b[38;5;241m.\u001b[39msubmit(welcome, semaphore, stop)\n\u001b[1;32m     28\u001b[0m     executor\u001b[38;5;241m.\u001b[39msubmit(monitor, semaphore, stop)\n",
      "File \u001b[0;32m/opt/anaconda3/lib/python3.12/concurrent/futures/_base.py:647\u001b[0m, in \u001b[0;36mExecutor.__exit__\u001b[0;34m(self, exc_type, exc_val, exc_tb)\u001b[0m\n\u001b[1;32m    646\u001b[0m \u001b[38;5;28;01mdef\u001b[39;00m \u001b[38;5;21m__exit__\u001b[39m(\u001b[38;5;28mself\u001b[39m, exc_type, exc_val, exc_tb):\n\u001b[0;32m--> 647\u001b[0m     \u001b[38;5;28mself\u001b[39m\u001b[38;5;241m.\u001b[39mshutdown(wait\u001b[38;5;241m=\u001b[39m\u001b[38;5;28;01mTrue\u001b[39;00m)\n\u001b[1;32m    648\u001b[0m     \u001b[38;5;28;01mreturn\u001b[39;00m \u001b[38;5;28;01mFalse\u001b[39;00m\n",
      "File \u001b[0;32m/opt/anaconda3/lib/python3.12/concurrent/futures/thread.py:238\u001b[0m, in \u001b[0;36mThreadPoolExecutor.shutdown\u001b[0;34m(self, wait, cancel_futures)\u001b[0m\n\u001b[1;32m    236\u001b[0m \u001b[38;5;28;01mif\u001b[39;00m wait:\n\u001b[1;32m    237\u001b[0m     \u001b[38;5;28;01mfor\u001b[39;00m t \u001b[38;5;129;01min\u001b[39;00m \u001b[38;5;28mself\u001b[39m\u001b[38;5;241m.\u001b[39m_threads:\n\u001b[0;32m--> 238\u001b[0m         t\u001b[38;5;241m.\u001b[39mjoin()\n",
      "File \u001b[0;32m/opt/anaconda3/lib/python3.12/threading.py:1147\u001b[0m, in \u001b[0;36mThread.join\u001b[0;34m(self, timeout)\u001b[0m\n\u001b[1;32m   1144\u001b[0m     \u001b[38;5;28;01mraise\u001b[39;00m \u001b[38;5;167;01mRuntimeError\u001b[39;00m(\u001b[38;5;124m\"\u001b[39m\u001b[38;5;124mcannot join current thread\u001b[39m\u001b[38;5;124m\"\u001b[39m)\n\u001b[1;32m   1146\u001b[0m \u001b[38;5;28;01mif\u001b[39;00m timeout \u001b[38;5;129;01mis\u001b[39;00m \u001b[38;5;28;01mNone\u001b[39;00m:\n\u001b[0;32m-> 1147\u001b[0m     \u001b[38;5;28mself\u001b[39m\u001b[38;5;241m.\u001b[39m_wait_for_tstate_lock()\n\u001b[1;32m   1148\u001b[0m \u001b[38;5;28;01melse\u001b[39;00m:\n\u001b[1;32m   1149\u001b[0m     \u001b[38;5;66;03m# the behavior of a negative timeout isn't documented, but\u001b[39;00m\n\u001b[1;32m   1150\u001b[0m     \u001b[38;5;66;03m# historically .join(timeout=x) for x<0 has acted as if timeout=0\u001b[39;00m\n\u001b[1;32m   1151\u001b[0m     \u001b[38;5;28mself\u001b[39m\u001b[38;5;241m.\u001b[39m_wait_for_tstate_lock(timeout\u001b[38;5;241m=\u001b[39m\u001b[38;5;28mmax\u001b[39m(timeout, \u001b[38;5;241m0\u001b[39m))\n",
      "File \u001b[0;32m/opt/anaconda3/lib/python3.12/threading.py:1167\u001b[0m, in \u001b[0;36mThread._wait_for_tstate_lock\u001b[0;34m(self, block, timeout)\u001b[0m\n\u001b[1;32m   1164\u001b[0m     \u001b[38;5;28;01mreturn\u001b[39;00m\n\u001b[1;32m   1166\u001b[0m \u001b[38;5;28;01mtry\u001b[39;00m:\n\u001b[0;32m-> 1167\u001b[0m     \u001b[38;5;28;01mif\u001b[39;00m lock\u001b[38;5;241m.\u001b[39macquire(block, timeout):\n\u001b[1;32m   1168\u001b[0m         lock\u001b[38;5;241m.\u001b[39mrelease()\n\u001b[1;32m   1169\u001b[0m         \u001b[38;5;28mself\u001b[39m\u001b[38;5;241m.\u001b[39m_stop()\n",
      "\u001b[0;31mKeyboardInterrupt\u001b[0m: "
     ]
    }
   ],
   "source": [
    "import concurrent.futures\n",
    "import random\n",
    "import threading\n",
    "import time\n",
    "\n",
    "def welcome(semaphore, stop):\n",
    "    while True and not stop.is_set():\n",
    "        visitor_number = 0\n",
    "        print(f'welcome visitor #{visitor_number}')\n",
    "        semaphore.acquire() # reduces value, is blocked when the counter is zero until release is called\n",
    "        visitor_number += 1\n",
    "        time.sleep(random.random())\n",
    "    \n",
    "def monitor(semaphore, stop):\n",
    "    while True and not stop.is_set():\n",
    "        print(f'[monitor] semaphore={semaphore._value}')\n",
    "        time.sleep(3)\n",
    "        if semaphore._value == 0:\n",
    "            print('[monitor] reached max users!')\n",
    "            print('[monitor] kicking a user out...')\n",
    "            semaphore.release() # increases value\n",
    "            time.sleep(0.05)\n",
    "\n",
    "stop = threading.Event()\n",
    "semaphore = threading.Semaphore(value=10)\n",
    "with concurrent.futures.ThreadPoolExecutor(max_workers=2) as executor:\n",
    "    executor.submit(welcome, semaphore, stop)\n",
    "    executor.submit(monitor, semaphore, stop)\n",
    "    time.sleep(5)\n",
    "    stop.set()\n",
    "\n",
    "# Counting is atomic. This means that there is a guarantee that the operating system will not swap out the thread in the middle of incrementing or decrementing the counter.\n",
    "# If a thread calls .acquire() when the counter is zero, that thread will block until a different thread calls .release() and increments the counter to one."
   ]
  },
  {
   "cell_type": "markdown",
   "id": "f4d157b7-683c-40cd-bf1e-9fc2019769e2",
   "metadata": {},
   "source": [
    "# MultiProcessing"
   ]
  },
  {
   "cell_type": "code",
   "execution_count": 85,
   "id": "031c117c-82e3-4b2b-bb6f-a08d2b1b5c82",
   "metadata": {},
   "outputs": [],
   "source": [
    "import multiprocessing\n",
    "\n",
    "start = time.perf_counter()\n",
    "with multiprocessing.Pool() as pool:\n",
    "    pool.map(download_site, sites)\n",
    "duration = time.perf_counter() - start\n",
    "print(f\"Downloaded {len(sites)} sites in {duration} seconds\")\n",
    "\n",
    "# multiprocessing.Pool(initializer=set_global_session)\n",
    "# If initializer is not None then each worker process will call initializer(*initargs) when it starts."
   ]
  },
  {
   "cell_type": "code",
   "execution_count": 33,
   "id": "04ef6b89-e03e-4e88-b95a-73e1167f37a0",
   "metadata": {},
   "outputs": [
    {
     "name": "stdout",
     "output_type": "stream",
     "text": [
      "Duration 4.790480667004886 seconds\n"
     ]
    }
   ],
   "source": [
    "# Synchronous\n",
    "import time\n",
    "\n",
    "def calculate(limit):\n",
    "    return sum(i * i for i in range(limit))\n",
    "\n",
    "numbers = [5_000_000 + x for x in range(20)]\n",
    "start = time.perf_counter()\n",
    "for number in numbers:\n",
    "    calculate(number)\n",
    "duration = time.perf_counter() - start\n",
    "print(f\"Duration {duration} seconds\")"
   ]
  },
  {
   "cell_type": "code",
   "execution_count": 39,
   "id": "e2948c67-295e-48fd-972d-9cd8b9c0fa23",
   "metadata": {},
   "outputs": [],
   "source": [
    "# Concurrent\n",
    "print(multiprocessing.cpu_count())\n",
    "start = time.perf_counter()\n",
    "with multiprocessing.Pool() as pool:\n",
    "    pool.map(calculate, numbers)\n",
    "duration = time.perf_counter() - start\n",
    "print(f\"Duration {duration} seconds\")"
   ]
  },
  {
   "cell_type": "markdown",
   "id": "06154361-cc4f-46a5-8502-8878fa04df8f",
   "metadata": {},
   "source": [
    "# Asyncio"
   ]
  },
  {
   "cell_type": "markdown",
   "id": "af90823d-5b41-4748-9d04-b4452aa20a53",
   "metadata": {},
   "source": [
    "## Basics"
   ]
  },
  {
   "cell_type": "code",
   "execution_count": null,
   "id": "10700aba-2190-46c8-851c-161646252706",
   "metadata": {},
   "outputs": [],
   "source": []
  },
  {
   "cell_type": "markdown",
   "id": "80f14ab6-5b85-4e1e-9aa0-752bd345a946",
   "metadata": {},
   "source": [
    "## aiohttp"
   ]
  },
  {
   "cell_type": "code",
   "execution_count": 89,
   "id": "fd67ff6c-6eca-4f39-9fd6-6bf37aad07ca",
   "metadata": {},
   "outputs": [
    {
     "name": "stdout",
     "output_type": "stream",
     "text": [
      "Starting downloads\n"
     ]
    },
    {
     "ename": "RuntimeError",
     "evalue": "This event loop is already running",
     "output_type": "error",
     "traceback": [
      "\u001b[0;31m---------------------------------------------------------------------------\u001b[0m",
      "\u001b[0;31mRuntimeError\u001b[0m                              Traceback (most recent call last)",
      "Cell \u001b[0;32mIn[89], line 22\u001b[0m\n\u001b[1;32m     20\u001b[0m start \u001b[38;5;241m=\u001b[39m time\u001b[38;5;241m.\u001b[39mperf_counter()\n\u001b[1;32m     21\u001b[0m loop \u001b[38;5;241m=\u001b[39m asyncio\u001b[38;5;241m.\u001b[39mget_event_loop()\n\u001b[0;32m---> 22\u001b[0m loop\u001b[38;5;241m.\u001b[39mrun_until_complete(download_all_sites(sites))\n\u001b[1;32m     23\u001b[0m duration \u001b[38;5;241m=\u001b[39m time\u001b[38;5;241m.\u001b[39mperf_counter() \u001b[38;5;241m-\u001b[39m start\n\u001b[1;32m     24\u001b[0m \u001b[38;5;28mprint\u001b[39m(\u001b[38;5;124mf\u001b[39m\u001b[38;5;124m\"\u001b[39m\u001b[38;5;130;01m\\n\u001b[39;00m\u001b[38;5;124mDownloaded \u001b[39m\u001b[38;5;132;01m{\u001b[39;00m\u001b[38;5;28mlen\u001b[39m(sites)\u001b[38;5;132;01m}\u001b[39;00m\u001b[38;5;124m sites in \u001b[39m\u001b[38;5;132;01m{\u001b[39;00mduration\u001b[38;5;132;01m}\u001b[39;00m\u001b[38;5;124m seconds\u001b[39m\u001b[38;5;124m\"\u001b[39m)\n",
      "File \u001b[0;32m/opt/anaconda3/lib/python3.12/asyncio/base_events.py:661\u001b[0m, in \u001b[0;36mBaseEventLoop.run_until_complete\u001b[0;34m(self, future)\u001b[0m\n\u001b[1;32m    650\u001b[0m \u001b[38;5;250m\u001b[39m\u001b[38;5;124;03m\"\"\"Run until the Future is done.\u001b[39;00m\n\u001b[1;32m    651\u001b[0m \n\u001b[1;32m    652\u001b[0m \u001b[38;5;124;03mIf the argument is a coroutine, it is wrapped in a Task.\u001b[39;00m\n\u001b[0;32m   (...)\u001b[0m\n\u001b[1;32m    658\u001b[0m \u001b[38;5;124;03mReturn the Future's result, or raise its exception.\u001b[39;00m\n\u001b[1;32m    659\u001b[0m \u001b[38;5;124;03m\"\"\"\u001b[39;00m\n\u001b[1;32m    660\u001b[0m \u001b[38;5;28mself\u001b[39m\u001b[38;5;241m.\u001b[39m_check_closed()\n\u001b[0;32m--> 661\u001b[0m \u001b[38;5;28mself\u001b[39m\u001b[38;5;241m.\u001b[39m_check_running()\n\u001b[1;32m    663\u001b[0m new_task \u001b[38;5;241m=\u001b[39m \u001b[38;5;129;01mnot\u001b[39;00m futures\u001b[38;5;241m.\u001b[39misfuture(future)\n\u001b[1;32m    664\u001b[0m future \u001b[38;5;241m=\u001b[39m tasks\u001b[38;5;241m.\u001b[39mensure_future(future, loop\u001b[38;5;241m=\u001b[39m\u001b[38;5;28mself\u001b[39m)\n",
      "File \u001b[0;32m/opt/anaconda3/lib/python3.12/asyncio/base_events.py:620\u001b[0m, in \u001b[0;36mBaseEventLoop._check_running\u001b[0;34m(self)\u001b[0m\n\u001b[1;32m    618\u001b[0m \u001b[38;5;28;01mdef\u001b[39;00m \u001b[38;5;21m_check_running\u001b[39m(\u001b[38;5;28mself\u001b[39m):\n\u001b[1;32m    619\u001b[0m     \u001b[38;5;28;01mif\u001b[39;00m \u001b[38;5;28mself\u001b[39m\u001b[38;5;241m.\u001b[39mis_running():\n\u001b[0;32m--> 620\u001b[0m         \u001b[38;5;28;01mraise\u001b[39;00m \u001b[38;5;167;01mRuntimeError\u001b[39;00m(\u001b[38;5;124m'\u001b[39m\u001b[38;5;124mThis event loop is already running\u001b[39m\u001b[38;5;124m'\u001b[39m)\n\u001b[1;32m    621\u001b[0m     \u001b[38;5;28;01mif\u001b[39;00m events\u001b[38;5;241m.\u001b[39m_get_running_loop() \u001b[38;5;129;01mis\u001b[39;00m \u001b[38;5;129;01mnot\u001b[39;00m \u001b[38;5;28;01mNone\u001b[39;00m:\n\u001b[1;32m    622\u001b[0m         \u001b[38;5;28;01mraise\u001b[39;00m \u001b[38;5;167;01mRuntimeError\u001b[39;00m(\n\u001b[1;32m    623\u001b[0m             \u001b[38;5;124m'\u001b[39m\u001b[38;5;124mCannot run the event loop while another loop is running\u001b[39m\u001b[38;5;124m'\u001b[39m)\n",
      "\u001b[0;31mRuntimeError\u001b[0m: This event loop is already running"
     ]
    }
   ],
   "source": [
    "import asyncio\n",
    "import time\n",
    "import aiohttp\n",
    "\n",
    "async def download_site(session, url):\n",
    "    async with session.get(url) as response:\n",
    "        indicator = \"J\" if \"jython\" in url else \"R\"\n",
    "        print(indicator, sep='', end='', flush=True)\n",
    "\n",
    "async def download_all_sites(sites):\n",
    "    async with aiohttp.ClientSession() as session:\n",
    "        tasks = []\n",
    "        for url in sites:\n",
    "            task = asyncio.ensure_future(download_site(session, url))\n",
    "            tasks.append(task)\n",
    "\n",
    "        await asyncio.gather(*tasks, return_exceptions=True)\n",
    "\n",
    "print(\"Starting downloads\")\n",
    "start = time.perf_counter()\n",
    "loop = asyncio.get_event_loop()\n",
    "loop.run_until_complete(download_all_sites(sites))\n",
    "duration = time.perf_counter() - start\n",
    "print(f\"\\nDownloaded {len(sites)} sites in {duration} seconds\")"
   ]
  },
  {
   "cell_type": "markdown",
   "id": "13a09179-f6d0-434a-849c-3d5eeefc2097",
   "metadata": {},
   "source": [
    "## aiofiles"
   ]
  },
  {
   "cell_type": "code",
   "execution_count": null,
   "id": "a2896a07-1c23-4e56-a7f5-03b3f862ea8f",
   "metadata": {},
   "outputs": [],
   "source": []
  }
 ],
 "metadata": {
  "kernelspec": {
   "display_name": "Python [conda env:base] *",
   "language": "python",
   "name": "conda-base-py"
  },
  "language_info": {
   "codemirror_mode": {
    "name": "ipython",
    "version": 3
   },
   "file_extension": ".py",
   "mimetype": "text/x-python",
   "name": "python",
   "nbconvert_exporter": "python",
   "pygments_lexer": "ipython3",
   "version": "3.12.2"
  }
 },
 "nbformat": 4,
 "nbformat_minor": 5
}
