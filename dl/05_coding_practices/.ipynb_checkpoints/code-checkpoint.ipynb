{
 "cells": [
  {
   "cell_type": "markdown",
   "id": "bd402658-d772-4ecf-88d9-0484a7011be6",
   "metadata": {
    "jp-MarkdownHeadingCollapsed": true
   },
   "source": [
    "# Iterators and Generators"
   ]
  },
  {
   "cell_type": "code",
   "execution_count": 9,
   "id": "81684822-a8a0-45c1-8466-c5483a530d67",
   "metadata": {},
   "outputs": [],
   "source": [
    "import random\n",
    "\n",
    "class RandomIncrement:\n",
    "    def __init__(self, limit): \n",
    "        self._offset = 0.0 \n",
    "        self._limit = limit\n",
    "    def __iter__(self):\n",
    "        return self\n",
    "    def __next__(self):\n",
    "        self._offset += random.random()\n",
    "        if (self._offset > self._limit):\n",
    "            raise StopIteration()\n",
    "        return self._offset\n",
    "\n",
    "def random_iterator(limit):\n",
    "    offset = 0\n",
    "    while True:\n",
    "        offset += random.random()\n",
    "        if (offset > limit):\n",
    "            raise StopIteration()\n",
    "        yield offset"
   ]
  },
  {
   "cell_type": "code",
   "execution_count": 19,
   "id": "af10d924-ba2d-4204-9d24-c5baa8297e1c",
   "metadata": {},
   "outputs": [],
   "source": [
    "random_iterator1 = random_iterator(5)\n",
    "random_iterator2 = RandomIncrement(5)"
   ]
  },
  {
   "cell_type": "code",
   "execution_count": 21,
   "id": "d1cc53db-211f-40f4-add6-6432d6625a51",
   "metadata": {},
   "outputs": [
    {
     "name": "stdout",
     "output_type": "stream",
     "text": [
      "0.5284641266066861\n",
      "0.13425650373361442\n"
     ]
    }
   ],
   "source": [
    "print(next(random_iterator1))\n",
    "print(next(random_iterator2))"
   ]
  },
  {
   "cell_type": "code",
   "execution_count": 11,
   "id": "2b205fd5-ee74-4b6c-b362-c8e363d87738",
   "metadata": {},
   "outputs": [
    {
     "name": "stdout",
     "output_type": "stream",
     "text": [
      "0.4945453502890924\n",
      "0.9165190957064185\n",
      "1.4141299539771788\n",
      "1.4532122724922911\n",
      "2.2747101950171817\n",
      "3.16995352041003\n",
      "3.8883043886690762\n",
      "4.330784812333031\n",
      "4.9237330915698445\n"
     ]
    }
   ],
   "source": [
    "for _ in random_iterator1:\n",
    "    print(_)"
   ]
  },
  {
   "cell_type": "code",
   "execution_count": 7,
   "id": "da4cb410-09fc-40dd-afcb-7fb997060296",
   "metadata": {},
   "outputs": [
    {
     "name": "stdout",
     "output_type": "stream",
     "text": [
      "0.31236688759189435\n",
      "0.5640959575453918\n",
      "1.0535249791678343\n",
      "1.7706531875264018\n",
      "2.015969924802686\n",
      "2.3398988808380685\n",
      "2.955082817208033\n",
      "3.549654644826994\n",
      "4.525384672350771\n"
     ]
    }
   ],
   "source": [
    "for _ in random_iterator2:\n",
    "    print(_)"
   ]
  },
  {
   "cell_type": "markdown",
   "id": "f67b676e-a0d4-4eaf-99b8-ad842f4ef839",
   "metadata": {},
   "source": [
    "# Assert"
   ]
  },
  {
   "cell_type": "code",
   "execution_count": null,
   "id": "64b5760a-08e2-4984-befe-e1c305bde3f6",
   "metadata": {},
   "outputs": [],
   "source": [
    "# ValueErrors"
   ]
  },
  {
   "cell_type": "code",
   "execution_count": null,
   "id": "f2e8381d-3bb0-484a-a6d4-e72a8690942f",
   "metadata": {},
   "outputs": [],
   "source": [
    "# Prints / Logging?"
   ]
  },
  {
   "cell_type": "code",
   "execution_count": null,
   "id": "56c1756d-96ec-4c54-85a9-c73f23b3a03a",
   "metadata": {},
   "outputs": [],
   "source": []
  },
  {
   "cell_type": "markdown",
   "id": "4aa9ee8c-8906-485e-b2ad-b3652e14ebab",
   "metadata": {},
   "source": [
    "# Args and Kwargs"
   ]
  },
  {
   "cell_type": "code",
   "execution_count": 44,
   "id": "37a67976-46df-424c-8eb2-b20a699ffca4",
   "metadata": {},
   "outputs": [
    {
     "name": "stdout",
     "output_type": "stream",
     "text": [
      "(3, 4)\n",
      "3\n",
      "{'num1': 5, 'num2': 6}\n",
      "num1\n"
     ]
    }
   ],
   "source": [
    "def foo(a, b, *args, **kwargs):\n",
    "    print(args) # We can reference args and kwargs, and they are not flattened\n",
    "    c, d = args\n",
    "    print(c)\n",
    "    print(kwargs)\n",
    "    e, f = kwargs\n",
    "    print(e)\n",
    "\n",
    "foo(1, 2, 3, 4, num1 = 5, num2 = 6)"
   ]
  },
  {
   "cell_type": "markdown",
   "id": "22457565-254f-4a39-a6ec-5816926ac003",
   "metadata": {},
   "source": [
    "# Generic Types"
   ]
  },
  {
   "cell_type": "code",
   "execution_count": 48,
   "id": "43c3b62d-f0da-4149-b3f2-77a2fa0fced4",
   "metadata": {},
   "outputs": [
    {
     "name": "stdout",
     "output_type": "stream",
     "text": [
      "1\n"
     ]
    }
   ],
   "source": [
    "from typing import TypeVar, List\n",
    "\n",
    "T = TypeVar('T')\n",
    "\n",
    "def first(container: List[T]) -> T:\n",
    "    print(container)\n",
    "    return \"a\" # mypy raises: Incompatible return value type (got \"str\", expected \"T\")"
   ]
  },
  {
   "cell_type": "code",
   "execution_count": null,
   "id": "9b05856c-b5b4-4833-848c-ed782ccc2e13",
   "metadata": {},
   "outputs": [],
   "source": [
    "def first(container: List[T]) -> T:\n",
    "    print(container)\n",
    "    return \"a\" # mypy raises: Incompatible return value type (got \"str\", expected \"T\")"
   ]
  },
  {
   "cell_type": "code",
   "execution_count": null,
   "id": "4ee86ea6-be27-4cc6-9591-f1098d6ff4a2",
   "metadata": {},
   "outputs": [],
   "source": [
    "from typing import Dict, Generic, TypeVar\n",
    "\n",
    "T = TypeVar(\"T\")\n",
    "\n",
    "class Registry(Generic[T]):\n",
    "    def __init__(self) -> None:\n",
    "        self._store: Dict[str, T] = {}\n",
    "          \n",
    "    def set_item(self, k: str, v: T) -> None:\n",
    "        self._store[k] = v"
   ]
  },
  {
   "cell_type": "code",
   "execution_count": null,
   "id": "20c8a922-e9ee-4eaf-b2c4-676d44723fac",
   "metadata": {},
   "outputs": [],
   "source": [
    "family_age_reg = Registry(int)()\n",
    "family_age_reg.set_item(\"steve\", \"yeah\")\n",
    "# mypy raises: Argument 2 to \"set_item\" of \"Registry\" has incompatible type \"str\"; expected \"int\""
   ]
  }
 ],
 "metadata": {
  "kernelspec": {
   "display_name": "Python [conda env:base] *",
   "language": "python",
   "name": "conda-base-py"
  },
  "language_info": {
   "codemirror_mode": {
    "name": "ipython",
    "version": 3
   },
   "file_extension": ".py",
   "mimetype": "text/x-python",
   "name": "python",
   "nbconvert_exporter": "python",
   "pygments_lexer": "ipython3",
   "version": "3.12.2"
  }
 },
 "nbformat": 4,
 "nbformat_minor": 5
}
